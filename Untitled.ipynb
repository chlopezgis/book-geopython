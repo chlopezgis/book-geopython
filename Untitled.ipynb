{
 "cells": [
  {
   "cell_type": "code",
   "execution_count": 2,
   "id": "fb910b76-f5a1-4a9a-a9ff-a3b07a493793",
   "metadata": {},
   "outputs": [
    {
     "name": "stdout",
     "output_type": "stream",
     "text": [
      "\n",
      "\u001b[92m===============================================================================\u001b[0m\n",
      "\n",
      "Your book template can be found at\n",
      "\n",
      "    geopython\\\n",
      "\n",
      "\u001b[92m===============================================================================\u001b[0m\n",
      "\n"
     ]
    }
   ],
   "source": [
    "!jupyter-book create geopython"
   ]
  },
  {
   "cell_type": "code",
   "execution_count": 2,
   "id": "c98be555-d481-4fa6-ad9f-61d3a52301ec",
   "metadata": {},
   "outputs": [
    {
     "name": "stdout",
     "output_type": "stream",
     "text": [
      "Running Jupyter-Book v1.0.3\n",
      "Source Folder: D:\\Charlie\\04_Github\\book-geopython\\book\n",
      "Config Path: D:\\Charlie\\04_Github\\book-geopython\\book\\_config.yml\n",
      "Output Path: D:\\Charlie\\04_Github\\book-geopython\\book\\_build\\html\n",
      "\u001b[01mRunning Sphinx v7.4.7\u001b[39;49;00m\n",
      "\u001b[01mloading translations [en]... \u001b[39;49;00mdone\n",
      "[etoc] Changing master_doc to 'intro'\n",
      "checking bibtex cache... out of date\n",
      "parsing bibtex file D:\\Charlie\\04_Github\\book-geopython\\book\\references.bib... parsed 5 entries\n",
      "\u001b[01mmyst v2.0.0:\u001b[39;49;00m MdParserConfig(commonmark_only=False, gfm_only=False, enable_extensions={'tasklist', 'dollarmath', 'linkify', 'colon_fence', 'substitution'}, disable_syntax=[], all_links_external=False, url_schemes=('mailto', 'http', 'https'), ref_domains=None, fence_as_directive=set(), number_code_blocks=[], title_to_header=False, heading_anchors=0, heading_slug_func=None, html_meta={}, footnote_transition=True, words_per_minute=200, substitutions={}, linkify_fuzzy_links=True, dmath_allow_labels=True, dmath_allow_space=True, dmath_allow_digits=True, dmath_double_inline=False, update_mathjax=True, mathjax_classes='tex2jax_process|mathjax_process|math|output_area', enable_checkboxes=False, suppress_warnings=[], highlight_code_blocks=True)\n",
      "\u001b[01mmyst-nb v1.2.0:\u001b[39;49;00m NbParserConfig(custom_formats={}, metadata_key='mystnb', cell_metadata_key='mystnb', kernel_rgx_aliases={}, eval_name_regex='^[a-zA-Z_][a-zA-Z0-9_]*$', execution_mode='force', execution_cache_path='', execution_excludepatterns=[], execution_timeout=30, execution_in_temp=False, execution_allow_errors=False, execution_raise_on_error=False, execution_show_tb=False, merge_streams=False, render_plugin='default', remove_code_source=False, remove_code_outputs=False, code_prompt_show='Show code cell {type}', code_prompt_hide='Hide code cell {type}', number_source_lines=False, output_stderr='show', render_text_lexer='myst-ansi', render_error_lexer='ipythontb', render_image_options={}, render_figure_options={}, render_markdown_format='commonmark', output_folder='build', append_css=True, metadata_to_fm=False)\n",
      "Using jupyter-cache at: D:\\Charlie\\04_Github\\book-geopython\\book\\_build\\.jupyter_cache\n",
      "\u001b[01msphinx-multitoc-numbering v0.1.3:\u001b[39;49;00m Loaded\n",
      "\u001b[01mbuilding [mo]: \u001b[39;49;00mtargets for 0 po files that are out of date\n",
      "\u001b[01mwriting output... \u001b[39;49;00m\n",
      "\u001b[01mbuilding [html]: \u001b[39;49;00mtargets for 5 source files that are out of date\n",
      "\u001b[01mupdating environment: \u001b[39;49;00m[new config] 5 added, 0 changed, 0 removed\n",
      "\u001b[2K\u001b[01mreading sources... \u001b[39;49;00m[ 20%] \u001b[35mintro\u001b[39;49;00m\n",
      "\u001b[2K\u001b[01mreading sources... \u001b[39;49;00m[ 40%] \u001b[35mmarkdown\u001b[39;49;00m\n",
      "\u001b[2K\u001b[01mreading sources... \u001b[39;49;00m[ 60%] \u001b[35mmarkdown-notebooks\u001b[39;49;00m\n",
      "D:\\Charlie\\04_Github\\book-geopython\\book\\markdown-notebooks.md: Executing notebook using local CWD [mystnb]\n",
      "D:\\Charlie\\04_Github\\book-geopython\\book\\markdown-notebooks.md: Executed notebook in 2.83 seconds [mystnb]\n",
      "\u001b[2K\u001b[01mreading sources... \u001b[39;49;00m[ 80%] \u001b[35mnotebooks\u001b[39;49;00m\n",
      "D:\\Charlie\\04_Github\\book-geopython\\book\\notebooks.ipynb: Executing notebook using local CWD [mystnb]\n",
      "D:\\Charlie\\04_Github\\book-geopython\\book\\notebooks.ipynb: Executed notebook in 3.45 seconds [mystnb]\n",
      "\u001b[2K\u001b[01mreading sources... \u001b[39;49;00m[100%] \u001b[35msnappToGeometry\u001b[39;49;00m\n",
      "D:\\Charlie\\04_Github\\book-geopython\\book\\snappToGeometry.ipynb: Executing notebook using local CWD [mystnb]\n",
      "D:\\Charlie\\04_Github\\book-geopython\\book\\snappToGeometry.ipynb: Executed notebook in 7.45 seconds [mystnb]\n",
      "\n",
      "\u001b[01mlooking for now-outdated files... \u001b[39;49;00mnone found\n",
      "\u001b[01mpickling environment... \u001b[39;49;00mdone\n",
      "\u001b[01mchecking consistency... \u001b[39;49;00mdone\n",
      "\u001b[01mpreparing documents... \u001b[39;49;00mdone\n",
      "\u001b[01mcopying assets... \u001b[39;49;00m\n",
      "\u001b[01mcopying static files... \u001b[39;49;00mdone\n",
      "\u001b[01mcopying extra files... \u001b[39;49;00mdone\n",
      "\u001b[01mcopying assets: \u001b[39;49;00mdone\n",
      "\u001b[2K\u001b[01mwriting output... \u001b[39;49;00m[ 20%] \u001b[32mintro\u001b[39;49;00m\n",
      "\u001b[2K\u001b[01mwriting output... \u001b[39;49;00m[ 40%] \u001b[32mmarkdown\u001b[39;49;00m\n",
      "\u001b[2K\u001b[01mwriting output... \u001b[39;49;00m[ 60%] \u001b[32mmarkdown-notebooks\u001b[39;49;00m\n",
      "\u001b[2K\u001b[01mwriting output... \u001b[39;49;00m[ 80%] \u001b[32mnotebooks\u001b[39;49;00m\n",
      "\u001b[2K\u001b[01mwriting output... \u001b[39;49;00m[100%] \u001b[32msnappToGeometry\u001b[39;49;00m\n",
      "\n",
      "\u001b[01mgenerating indices... \u001b[39;49;00mgenindex done\n",
      "\u001b[01mwriting additional pages... \u001b[39;49;00msearch done\n",
      "\u001b[2K\u001b[01mcopying images... \u001b[39;49;00m[100%] \u001b[33mD:/Charlie/04_Github/book-geopython/book/_build/jupyter_execute/165f042da09af3f7a5e742dd4ae058315b519fb9d19a8c2ebcea9dfedcc5d077.png\u001b[39;49;00m\n",
      "\n",
      "\u001b[01mdumping search index in English (code: en)... \u001b[39;49;00mdone\n",
      "\u001b[01mdumping object inventory... \u001b[39;49;00mdone\n",
      "\u001b[01mbuild succeeded, 2 warnings.\u001b[39;49;00m\n",
      "\n",
      "The HTML pages are in book\\_build\\html.\n",
      "\n",
      "\u001b[92m===============================================================================\u001b[0m\n",
      "\n",
      "Finished generating HTML for book.\n",
      "Your book's HTML pages are here:\n",
      "    book\\_build\\html\\\n",
      "You can look at your book by opening this file in a browser:\n",
      "    book\\_build\\html\\index.html\n",
      "Or paste this line directly into your browser bar:\n",
      "    file://D:\\Charlie\\04_Github\\book-geopython\\book\\_build\\html\\index.html            \n",
      "\n",
      "\u001b[92m===============================================================================\u001b[0m\n",
      "\n"
     ]
    },
    {
     "name": "stderr",
     "output_type": "stream",
     "text": [
      "C:\\Users\\Charlie\\.conda\\envs\\pythongis\\lib\\site-packages\\zmq\\_future.py:679: RuntimeWarning: Proactor event loop does not implement add_reader family of methods required for zmq. Registering an additional selector thread for add_reader support via tornado. Use `asyncio.set_event_loop_policy(WindowsSelectorEventLoopPolicy())` to avoid this warning.\n",
      "  self._get_loop()\n",
      "\u001b[91mD:\\Charlie\\04_Github\\book-geopython\\book\\markdown-notebooks.md: WARNING: document isn't included in any toctree\u001b[39;49;00m\n",
      "\u001b[91mD:\\Charlie\\04_Github\\book-geopython\\book\\notebooks.ipynb: WARNING: document isn't included in any toctree\u001b[39;49;00m\n"
     ]
    }
   ],
   "source": [
    "!jupyter-book build --all book/"
   ]
  },
  {
   "cell_type": "code",
   "execution_count": 3,
   "id": "dcbf8a64-7cce-40b0-a866-3e6a29e7884f",
   "metadata": {},
   "outputs": [
    {
     "name": "stdout",
     "output_type": "stream",
     "text": [
      "Collecting ghp-import\n",
      "  Downloading ghp_import-2.1.0-py3-none-any.whl (11 kB)\n",
      "Requirement already satisfied: python-dateutil>=2.8.1 in c:\\users\\charlie\\.conda\\envs\\pythongis\\lib\\site-packages (from ghp-import) (2.8.2)\n",
      "Requirement already satisfied: six>=1.5 in c:\\users\\charlie\\.conda\\envs\\pythongis\\lib\\site-packages (from python-dateutil>=2.8.1->ghp-import) (1.16.0)\n",
      "Installing collected packages: ghp-import\n",
      "Successfully installed ghp-import-2.1.0\n"
     ]
    }
   ],
   "source": [
    "!pip install ghp-import"
   ]
  },
  {
   "cell_type": "code",
   "execution_count": null,
   "id": "be0c3e42-c37b-494f-9a72-130b70db0a0a",
   "metadata": {},
   "outputs": [],
   "source": []
  }
 ],
 "metadata": {
  "kernelspec": {
   "display_name": "Python 3 (ipykernel)",
   "language": "python",
   "name": "python3"
  },
  "language_info": {
   "codemirror_mode": {
    "name": "ipython",
    "version": 3
   },
   "file_extension": ".py",
   "mimetype": "text/x-python",
   "name": "python",
   "nbconvert_exporter": "python",
   "pygments_lexer": "ipython3",
   "version": "3.9.7"
  }
 },
 "nbformat": 4,
 "nbformat_minor": 5
}
