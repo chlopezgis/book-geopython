{
 "cells": [
  {
   "cell_type": "markdown",
   "id": "0e760b9a-f846-4004-a17a-924b8b58f0fb",
   "metadata": {},
   "source": [
    "# **Indexación y selección de datos**\n",
    "\n",
    "**GeoPandas** hereda los métodos de **Pandas** para la **indexación y selección de datos**, lo que permite **extraer subconjuntos** de información según **condiciones tabulares**. Además, incorpora un **método de selección espacial** basado en coordenadas, que facilita la **extracción de datos** cuyas **geometrías intersectan un cuadro delimitador**.\n",
    "\n",
    "En este artículo, exploraremos en detalle estos métodos de selección y extracción de datos.\n",
    "\n",
    "Primero, importaremos las librerías necesarias y cargaremos los datos que utilizaremos en este tutorial."
   ]
  },
  {
   "cell_type": "code",
   "execution_count": 1,
   "id": "1939f06f-4597-4ec8-b237-37dca011fc8a",
   "metadata": {},
   "outputs": [],
   "source": [
    "# importar librerías\n",
    "import numpy as np\n",
    "import geopandas as gpd\n",
    "import warnings\n",
    "warnings.filterwarnings('ignore')"
   ]
  },
  {
   "cell_type": "code",
   "execution_count": 2,
   "id": "902acdca-e6f0-45d3-a916-3f0c60813b18",
   "metadata": {},
   "outputs": [],
   "source": [
    "# Ruta del archivo\n",
    "uri=r'D:\\Charlie\\01_Cartografia\\catastro.gpkg'\n",
    "\n",
    "# Lectura como GeoDataFrame\n",
    "puertas = gpd.read_file(uri, layer='puertas')"
   ]
  },
  {
   "cell_type": "code",
   "execution_count": 3,
   "id": "c9148a10-e64a-4aa6-b75c-541fc58ffbff",
   "metadata": {},
   "outputs": [
    {
     "data": {
      "text/html": [
       "<div>\n",
       "<style scoped>\n",
       "    .dataframe tbody tr th:only-of-type {\n",
       "        vertical-align: middle;\n",
       "    }\n",
       "\n",
       "    .dataframe tbody tr th {\n",
       "        vertical-align: top;\n",
       "    }\n",
       "\n",
       "    .dataframe thead th {\n",
       "        text-align: right;\n",
       "    }\n",
       "</style>\n",
       "<table border=\"1\" class=\"dataframe\">\n",
       "  <thead>\n",
       "    <tr style=\"text-align: right;\">\n",
       "      <th></th>\n",
       "      <th>OBJECTID</th>\n",
       "      <th>CODIGOPREDIO</th>\n",
       "      <th>NUMEROLOTE</th>\n",
       "      <th>NUMEROPUERTA</th>\n",
       "      <th>CODIGODISTRITO</th>\n",
       "      <th>CODIGOSEGMENTOVIA</th>\n",
       "      <th>CODIGOMANZANA</th>\n",
       "      <th>CODIGOPUERTA</th>\n",
       "      <th>geometry</th>\n",
       "    </tr>\n",
       "  </thead>\n",
       "  <tbody>\n",
       "    <tr>\n",
       "      <th>0</th>\n",
       "      <td>61</td>\n",
       "      <td>L38</td>\n",
       "      <td>None</td>\n",
       "      <td>842</td>\n",
       "      <td>150132</td>\n",
       "      <td>147461</td>\n",
       "      <td>31856.0</td>\n",
       "      <td>3687</td>\n",
       "      <td>POINT (282306.453 8669914.377)</td>\n",
       "    </tr>\n",
       "    <tr>\n",
       "      <th>1</th>\n",
       "      <td>62</td>\n",
       "      <td>L24</td>\n",
       "      <td>None</td>\n",
       "      <td>811A</td>\n",
       "      <td>150132</td>\n",
       "      <td>147899</td>\n",
       "      <td>31856.0</td>\n",
       "      <td>3688</td>\n",
       "      <td>POINT (282245.352 8669863.459)</td>\n",
       "    </tr>\n",
       "  </tbody>\n",
       "</table>\n",
       "</div>"
      ],
      "text/plain": [
       "   OBJECTID CODIGOPREDIO NUMEROLOTE NUMEROPUERTA CODIGODISTRITO  \\\n",
       "0        61          L38       None          842         150132   \n",
       "1        62          L24       None         811A         150132   \n",
       "\n",
       "  CODIGOSEGMENTOVIA  CODIGOMANZANA  CODIGOPUERTA  \\\n",
       "0            147461        31856.0          3687   \n",
       "1            147899        31856.0          3688   \n",
       "\n",
       "                         geometry  \n",
       "0  POINT (282306.453 8669914.377)  \n",
       "1  POINT (282245.352 8669863.459)  "
      ]
     },
     "execution_count": 3,
     "metadata": {},
     "output_type": "execute_result"
    }
   ],
   "source": [
    "# Visualizar las dos primera filas\n",
    "puertas.head(2)"
   ]
  },
  {
   "cell_type": "markdown",
   "id": "c7ceaa9c-7264-4c84-83ac-b9087935f5d0",
   "metadata": {},
   "source": [
    "Veamos las columnas de esta capa:"
   ]
  },
  {
   "cell_type": "code",
   "execution_count": 4,
   "id": "a23208ec-75b5-4677-a917-807f26b5ec31",
   "metadata": {},
   "outputs": [
    {
     "data": {
      "text/plain": [
       "array(['OBJECTID', 'CODIGOPREDIO', 'NUMEROLOTE', 'NUMEROPUERTA',\n",
       "       'CODIGODISTRITO', 'CODIGOSEGMENTOVIA', 'CODIGOMANZANA',\n",
       "       'CODIGOPUERTA', 'geometry'], dtype=object)"
      ]
     },
     "execution_count": 4,
     "metadata": {},
     "output_type": "execute_result"
    }
   ],
   "source": [
    "puertas.columns.values"
   ]
  },
  {
   "cell_type": "markdown",
   "id": "e62b3723-6879-47b0-8947-bdc1b7c40997",
   "metadata": {},
   "source": [
    "## **1. Selección con Operadores de Indexación**\n",
    "\n",
    "**GeoPandas** permite seleccionar datos mediante los operadores **`[]`** y **`.`**, que facilitan el **acceso a columnas específicas** y la **selección de subconjuntos mediante filtros condicionales**. A continuación, exploramos su aplicación en detalle."
   ]
  },
  {
   "cell_type": "markdown",
   "id": "f8e8bf8e-c4d4-4da6-b887-a7355562b316",
   "metadata": {},
   "source": [
    "### **1.1. Selección de una columna específica**\n",
    "\n",
    "Podemos seleccionar una columna específica utilizando el operador **`[]`**, indicando su nombre. También es posible emplear el operador **`.`**, siempre que el nombre de la columna no contenga espacios ni caracteres especiales."
   ]
  },
  {
   "cell_type": "code",
   "execution_count": 5,
   "id": "40218c27-ef17-46a8-90f9-93efc7ac603a",
   "metadata": {},
   "outputs": [
    {
     "data": {
      "text/plain": [
       "0     842\n",
       "1    811A\n",
       "2     930\n",
       "3     943\n",
       "4     971\n",
       "Name: NUMEROPUERTA, dtype: object"
      ]
     },
     "execution_count": 5,
     "metadata": {},
     "output_type": "execute_result"
    }
   ],
   "source": [
    "# Seleccionar la columna NUMEROPUERTA usando \"[]\"\n",
    "puertas['NUMEROPUERTA'].head()"
   ]
  },
  {
   "cell_type": "code",
   "execution_count": 6,
   "id": "8830f22b-36b3-46ff-9912-983bc9833d47",
   "metadata": {},
   "outputs": [
    {
     "data": {
      "text/plain": [
       "0     842\n",
       "1    811A\n",
       "2     930\n",
       "3     943\n",
       "4     971\n",
       "Name: NUMEROPUERTA, dtype: object"
      ]
     },
     "execution_count": 6,
     "metadata": {},
     "output_type": "execute_result"
    }
   ],
   "source": [
    "# Seleccionar la columna NUMEROPUERTA usando \".\"\n",
    "puertas.NUMEROPUERTA.head()"
   ]
  },
  {
   "cell_type": "markdown",
   "id": "6e7cbdd3-62a3-46f9-9c24-4f5332635f37",
   "metadata": {},
   "source": [
    "### **1.2. Selección de multiples columnas**\n",
    "\n",
    "Para seleccionar múltiples columnas, usamos el operador **`[]`** e indicamos una lista con los nombres de las columnas a filtrar:"
   ]
  },
  {
   "cell_type": "code",
   "execution_count": 7,
   "id": "5065e667-493d-44cc-a9d0-23cb089552b4",
   "metadata": {},
   "outputs": [
    {
     "data": {
      "text/html": [
       "<div>\n",
       "<style scoped>\n",
       "    .dataframe tbody tr th:only-of-type {\n",
       "        vertical-align: middle;\n",
       "    }\n",
       "\n",
       "    .dataframe tbody tr th {\n",
       "        vertical-align: top;\n",
       "    }\n",
       "\n",
       "    .dataframe thead th {\n",
       "        text-align: right;\n",
       "    }\n",
       "</style>\n",
       "<table border=\"1\" class=\"dataframe\">\n",
       "  <thead>\n",
       "    <tr style=\"text-align: right;\">\n",
       "      <th></th>\n",
       "      <th>NUMEROPUERTA</th>\n",
       "      <th>CODIGODISTRITO</th>\n",
       "      <th>geometry</th>\n",
       "    </tr>\n",
       "  </thead>\n",
       "  <tbody>\n",
       "    <tr>\n",
       "      <th>0</th>\n",
       "      <td>842</td>\n",
       "      <td>150132</td>\n",
       "      <td>POINT (282306.453 8669914.377)</td>\n",
       "    </tr>\n",
       "    <tr>\n",
       "      <th>1</th>\n",
       "      <td>811A</td>\n",
       "      <td>150132</td>\n",
       "      <td>POINT (282245.352 8669863.459)</td>\n",
       "    </tr>\n",
       "    <tr>\n",
       "      <th>2</th>\n",
       "      <td>930</td>\n",
       "      <td>150132</td>\n",
       "      <td>POINT (282501.278 8670013.832)</td>\n",
       "    </tr>\n",
       "    <tr>\n",
       "      <th>3</th>\n",
       "      <td>943</td>\n",
       "      <td>150132</td>\n",
       "      <td>POINT (282505.574 8669977.579)</td>\n",
       "    </tr>\n",
       "    <tr>\n",
       "      <th>4</th>\n",
       "      <td>971</td>\n",
       "      <td>150132</td>\n",
       "      <td>POINT (282560.12 8669989.886)</td>\n",
       "    </tr>\n",
       "  </tbody>\n",
       "</table>\n",
       "</div>"
      ],
      "text/plain": [
       "  NUMEROPUERTA CODIGODISTRITO                        geometry\n",
       "0          842         150132  POINT (282306.453 8669914.377)\n",
       "1         811A         150132  POINT (282245.352 8669863.459)\n",
       "2          930         150132  POINT (282501.278 8670013.832)\n",
       "3          943         150132  POINT (282505.574 8669977.579)\n",
       "4          971         150132   POINT (282560.12 8669989.886)"
      ]
     },
     "execution_count": 7,
     "metadata": {},
     "output_type": "execute_result"
    }
   ],
   "source": [
    "# Lista con las columnas a seleccionar. Tambien se \n",
    "# puede indicar directamente dentro del operador \"[]\"\n",
    "cols=['NUMEROPUERTA', 'CODIGODISTRITO', 'geometry']\n",
    "\n",
    "# Selección de columnas en base a la lista \"cols\"\n",
    "puertas[cols].head()\n",
    "\n",
    "# tambien se puede usar la lista directamente:\n",
    "# puertas[['NUMEROPUERTA','CODIGODISTRITO','geometry']].head()"
   ]
  },
  {
   "cell_type": "markdown",
   "id": "dedc96b6-8a26-4d0b-a2e4-b747d5eca41f",
   "metadata": {},
   "source": [
    "### **1.3. Selección por condición**\n",
    "\n",
    "Para filtrar un subconjunto de datos, podemos **aplicar una condición** dentro del operador **`[]`**, seleccionando únicamente las filas que cumplan con el criterio especificado."
   ]
  },
  {
   "cell_type": "code",
   "execution_count": 8,
   "id": "bdef3943-18c0-44aa-a9e9-fa16a605a574",
   "metadata": {},
   "outputs": [
    {
     "name": "stdout",
     "output_type": "stream",
     "text": [
      "Fila y columnas: (54408, 9)\n"
     ]
    },
    {
     "data": {
      "text/html": [
       "<div>\n",
       "<style scoped>\n",
       "    .dataframe tbody tr th:only-of-type {\n",
       "        vertical-align: middle;\n",
       "    }\n",
       "\n",
       "    .dataframe tbody tr th {\n",
       "        vertical-align: top;\n",
       "    }\n",
       "\n",
       "    .dataframe thead th {\n",
       "        text-align: right;\n",
       "    }\n",
       "</style>\n",
       "<table border=\"1\" class=\"dataframe\">\n",
       "  <thead>\n",
       "    <tr style=\"text-align: right;\">\n",
       "      <th></th>\n",
       "      <th>OBJECTID</th>\n",
       "      <th>CODIGOPREDIO</th>\n",
       "      <th>NUMEROLOTE</th>\n",
       "      <th>NUMEROPUERTA</th>\n",
       "      <th>CODIGODISTRITO</th>\n",
       "      <th>CODIGOSEGMENTOVIA</th>\n",
       "      <th>CODIGOMANZANA</th>\n",
       "      <th>CODIGOPUERTA</th>\n",
       "      <th>geometry</th>\n",
       "    </tr>\n",
       "  </thead>\n",
       "  <tbody>\n",
       "    <tr>\n",
       "      <th>408797</th>\n",
       "      <td>594697</td>\n",
       "      <td>L18</td>\n",
       "      <td>0</td>\n",
       "      <td>S/N</td>\n",
       "      <td>150117</td>\n",
       "      <td>239440</td>\n",
       "      <td>44601.0</td>\n",
       "      <td>837603</td>\n",
       "      <td>POINT (273398.254 8671700.521)</td>\n",
       "    </tr>\n",
       "    <tr>\n",
       "      <th>408798</th>\n",
       "      <td>594698</td>\n",
       "      <td>L01</td>\n",
       "      <td>6</td>\n",
       "      <td>S/N</td>\n",
       "      <td>150117</td>\n",
       "      <td>239995</td>\n",
       "      <td>44593.0</td>\n",
       "      <td>837604</td>\n",
       "      <td>POINT (273837.064 8671477.364)</td>\n",
       "    </tr>\n",
       "  </tbody>\n",
       "</table>\n",
       "</div>"
      ],
      "text/plain": [
       "        OBJECTID CODIGOPREDIO NUMEROLOTE NUMEROPUERTA CODIGODISTRITO  \\\n",
       "408797    594697          L18          0          S/N         150117   \n",
       "408798    594698          L01          6          S/N         150117   \n",
       "\n",
       "       CODIGOSEGMENTOVIA  CODIGOMANZANA  CODIGOPUERTA  \\\n",
       "408797            239440        44601.0        837603   \n",
       "408798            239995        44593.0        837604   \n",
       "\n",
       "                              geometry  \n",
       "408797  POINT (273398.254 8671700.521)  \n",
       "408798  POINT (273837.064 8671477.364)  "
      ]
     },
     "execution_count": 8,
     "metadata": {},
     "output_type": "execute_result"
    }
   ],
   "source": [
    "# Condición donde el codigo de distrito es \"150117\"\n",
    "condicion = puertas.CODIGODISTRITO=='150117'\n",
    "\n",
    "# Seleccionar solo los registros donde CODIGODISTRITO es '150117'\n",
    "puertas_olivos = puertas[condicion]\n",
    "\n",
    "# Imprimir la cantidad de filas y columnas seleccionadas\n",
    "print(f'Fila y columnas: {puertas_olivos.shape}')\n",
    "\n",
    "# Visualizar las dos primeras filas:\n",
    "puertas_olivos.head(2)\n",
    "\n",
    "# La condición se puede aplicar directamente dentro del operador \"[]\"\n",
    "#puertas_olivos = puertas[puertas.CODIGODISTRITO=='150117']"
   ]
  },
  {
   "cell_type": "markdown",
   "id": "79d3fb9f-3c87-4d51-9093-93dcb01703f9",
   "metadata": {},
   "source": [
    "Mediante los operadores **AND** (`&`) y **OR** (`|`), es posible combinar múltiples condiciones de búsqueda."
   ]
  },
  {
   "cell_type": "code",
   "execution_count": 9,
   "id": "3c3c58cd-cc81-42b2-9f3d-0aafbc791e57",
   "metadata": {},
   "outputs": [
    {
     "name": "stdout",
     "output_type": "stream",
     "text": [
      "Fila y columnas: (19970, 9)\n"
     ]
    },
    {
     "data": {
      "text/html": [
       "<div>\n",
       "<style scoped>\n",
       "    .dataframe tbody tr th:only-of-type {\n",
       "        vertical-align: middle;\n",
       "    }\n",
       "\n",
       "    .dataframe tbody tr th {\n",
       "        vertical-align: top;\n",
       "    }\n",
       "\n",
       "    .dataframe thead th {\n",
       "        text-align: right;\n",
       "    }\n",
       "</style>\n",
       "<table border=\"1\" class=\"dataframe\">\n",
       "  <thead>\n",
       "    <tr style=\"text-align: right;\">\n",
       "      <th></th>\n",
       "      <th>OBJECTID</th>\n",
       "      <th>CODIGOPREDIO</th>\n",
       "      <th>NUMEROLOTE</th>\n",
       "      <th>NUMEROPUERTA</th>\n",
       "      <th>CODIGODISTRITO</th>\n",
       "      <th>CODIGOSEGMENTOVIA</th>\n",
       "      <th>CODIGOMANZANA</th>\n",
       "      <th>CODIGOPUERTA</th>\n",
       "      <th>geometry</th>\n",
       "    </tr>\n",
       "  </thead>\n",
       "  <tbody>\n",
       "    <tr>\n",
       "      <th>408847</th>\n",
       "      <td>594747</td>\n",
       "      <td>L13</td>\n",
       "      <td>None</td>\n",
       "      <td>319</td>\n",
       "      <td>150117</td>\n",
       "      <td>239305</td>\n",
       "      <td>44595.0</td>\n",
       "      <td>837653</td>\n",
       "      <td>POINT (273774.795 8671638.546)</td>\n",
       "    </tr>\n",
       "    <tr>\n",
       "      <th>408857</th>\n",
       "      <td>594757</td>\n",
       "      <td>L08</td>\n",
       "      <td>None</td>\n",
       "      <td>1888</td>\n",
       "      <td>150117</td>\n",
       "      <td>239193</td>\n",
       "      <td>44602.0</td>\n",
       "      <td>837663</td>\n",
       "      <td>POINT (273334.322 8671831.08)</td>\n",
       "    </tr>\n",
       "  </tbody>\n",
       "</table>\n",
       "</div>"
      ],
      "text/plain": [
       "        OBJECTID CODIGOPREDIO NUMEROLOTE NUMEROPUERTA CODIGODISTRITO  \\\n",
       "408847    594747          L13       None          319         150117   \n",
       "408857    594757          L08       None         1888         150117   \n",
       "\n",
       "       CODIGOSEGMENTOVIA  CODIGOMANZANA  CODIGOPUERTA  \\\n",
       "408847            239305        44595.0        837653   \n",
       "408857            239193        44602.0        837663   \n",
       "\n",
       "                              geometry  \n",
       "408847  POINT (273774.795 8671638.546)  \n",
       "408857   POINT (273334.322 8671831.08)  "
      ]
     },
     "execution_count": 9,
     "metadata": {},
     "output_type": "execute_result"
    }
   ],
   "source": [
    "# Condición 1: Registros cuyo CODIGODISTRITO es '150117'\n",
    "conDist = puertas.CODIGODISTRITO=='150117'\n",
    "# Condición 2: Registros cuyo NUMEROPUERTA es diferente a \"S/N\"\n",
    "conPuerta = puertas.NUMEROPUERTA != 'S/N'\n",
    "\n",
    "# Seleccionando por las condiciones:\n",
    "puertas_olivos_names = puertas[conDist & conPuerta]\n",
    "\n",
    "# Imprimir la cantidad de filas y columnas seleccionadas\n",
    "print(f'Fila y columnas: {puertas_olivos_names.shape}')\n",
    "\n",
    "# Visualizar las dos primeras filas:\n",
    "puertas_olivos_names.head(2)"
   ]
  },
  {
   "cell_type": "markdown",
   "id": "576e43bf-2287-4027-a64b-847141e37e2a",
   "metadata": {},
   "source": [
    "### **1.3. Integrando selección por condición y columnas**\n",
    "\n",
    "También es posible unificar la **selección por condición y por columnas** en una sola operación."
   ]
  },
  {
   "cell_type": "code",
   "execution_count": 10,
   "id": "c506e765-8e08-4aa3-a558-a26ad17684cd",
   "metadata": {},
   "outputs": [
    {
     "name": "stdout",
     "output_type": "stream",
     "text": [
      "Fila y columnas: (19970, 3)\n"
     ]
    },
    {
     "data": {
      "text/html": [
       "<div>\n",
       "<style scoped>\n",
       "    .dataframe tbody tr th:only-of-type {\n",
       "        vertical-align: middle;\n",
       "    }\n",
       "\n",
       "    .dataframe tbody tr th {\n",
       "        vertical-align: top;\n",
       "    }\n",
       "\n",
       "    .dataframe thead th {\n",
       "        text-align: right;\n",
       "    }\n",
       "</style>\n",
       "<table border=\"1\" class=\"dataframe\">\n",
       "  <thead>\n",
       "    <tr style=\"text-align: right;\">\n",
       "      <th></th>\n",
       "      <th>NUMEROPUERTA</th>\n",
       "      <th>CODIGODISTRITO</th>\n",
       "      <th>geometry</th>\n",
       "    </tr>\n",
       "  </thead>\n",
       "  <tbody>\n",
       "    <tr>\n",
       "      <th>408847</th>\n",
       "      <td>319</td>\n",
       "      <td>150117</td>\n",
       "      <td>POINT (273774.795 8671638.546)</td>\n",
       "    </tr>\n",
       "    <tr>\n",
       "      <th>408857</th>\n",
       "      <td>1888</td>\n",
       "      <td>150117</td>\n",
       "      <td>POINT (273334.322 8671831.08)</td>\n",
       "    </tr>\n",
       "  </tbody>\n",
       "</table>\n",
       "</div>"
      ],
      "text/plain": [
       "       NUMEROPUERTA CODIGODISTRITO                        geometry\n",
       "408847          319         150117  POINT (273774.795 8671638.546)\n",
       "408857         1888         150117   POINT (273334.322 8671831.08)"
      ]
     },
     "execution_count": 10,
     "metadata": {},
     "output_type": "execute_result"
    }
   ],
   "source": [
    "# cols: Listado de columnas previamente declaradas\n",
    "# conDist y conPuerta: Condicions previamente declaradas\n",
    "puertas_select = puertas[conDist & conPuerta][cols]\n",
    "\n",
    "# Imprimir la cantidad de filas y columnas seleccionadas\n",
    "print(f'Fila y columnas: {puertas_select.shape}')\n",
    "\n",
    "# Visualizar las dos primeras filas:\n",
    "puertas_select.head(2)"
   ]
  },
  {
   "cell_type": "markdown",
   "id": "84c650e8-f53d-45c9-a66c-5abc7628a04e",
   "metadata": {},
   "source": [
    "## **2. Selección por etiqueta `.loc`**\n",
    "\n",
    "La selección por etiqueta se realiza mediante el método _Pandas_ **[.loc](https://pandas.pydata.org/docs/reference/api/pandas.DataFrame.loc.html)**, que permite **acceder a filas y columnas a través de sus nombres de índice**.\n",
    "\n",
    "**Sintaxis básica**:\n",
    "\n",
    "```{note}\n",
    "df.loc[fila, columna]\n",
    "\n",
    "* **fila**: Etiqueta o rango de etiquetas de las filas a seleccionar.\n",
    "* **columna**: Etiqueta o rango de etiquetas de las columnas a seleccionar.\n",
    "```"
   ]
  },
  {
   "cell_type": "markdown",
   "id": "f8d1e1c6-b63a-468f-89ad-f39b1662ed14",
   "metadata": {},
   "source": [
    "### **2.1. Selección de filas**\n",
    "\n",
    "Para seleccionar filas, basta con indicar su nombre, que por defecto es un número entero a menos que se haya especificado otro valor. Si no se indica ninguna columna, se seleccionarán todas por defecto.\n",
    "\n",
    "Para seleccionar un **única fila** solo indicamos su nombre dentro de **loc**:"
   ]
  },
  {
   "cell_type": "code",
   "execution_count": 11,
   "id": "cb7adab1-704a-4368-a4f7-1b1b6f2e00ee",
   "metadata": {},
   "outputs": [
    {
     "data": {
      "text/plain": [
       "OBJECTID                                                 66\n",
       "CODIGOPREDIO                                            L17\n",
       "NUMEROLOTE                                             None\n",
       "NUMEROPUERTA                                            528\n",
       "CODIGODISTRITO                                       150132\n",
       "CODIGOSEGMENTOVIA                                    159355\n",
       "CODIGOMANZANA                                       31811.0\n",
       "CODIGOPUERTA                                           3692\n",
       "geometry             POINT (282541.47200000007 8670064.495)\n",
       "Name: 5, dtype: object"
      ]
     },
     "execution_count": 11,
     "metadata": {},
     "output_type": "execute_result"
    }
   ],
   "source": [
    "puertas.loc[5]"
   ]
  },
  {
   "cell_type": "markdown",
   "id": "694aec23-3fe5-4060-aa8a-959908973b81",
   "metadata": {},
   "source": [
    "Para seleccionar **múltiples filas**, se debe proporcionar una lista con sus nombres. Si los indices son valores enteros, es posible aplicar un **slice** para seleccionar un rango de filas. A continuación, exploramos ambos casos:"
   ]
  },
  {
   "cell_type": "code",
   "execution_count": 12,
   "id": "9d34c420-6d79-4d97-8c06-c61dad740504",
   "metadata": {},
   "outputs": [
    {
     "data": {
      "text/html": [
       "<div>\n",
       "<style scoped>\n",
       "    .dataframe tbody tr th:only-of-type {\n",
       "        vertical-align: middle;\n",
       "    }\n",
       "\n",
       "    .dataframe tbody tr th {\n",
       "        vertical-align: top;\n",
       "    }\n",
       "\n",
       "    .dataframe thead th {\n",
       "        text-align: right;\n",
       "    }\n",
       "</style>\n",
       "<table border=\"1\" class=\"dataframe\">\n",
       "  <thead>\n",
       "    <tr style=\"text-align: right;\">\n",
       "      <th></th>\n",
       "      <th>OBJECTID</th>\n",
       "      <th>CODIGOPREDIO</th>\n",
       "      <th>NUMEROLOTE</th>\n",
       "      <th>NUMEROPUERTA</th>\n",
       "      <th>CODIGODISTRITO</th>\n",
       "      <th>CODIGOSEGMENTOVIA</th>\n",
       "      <th>CODIGOMANZANA</th>\n",
       "      <th>CODIGOPUERTA</th>\n",
       "      <th>geometry</th>\n",
       "    </tr>\n",
       "  </thead>\n",
       "  <tbody>\n",
       "    <tr>\n",
       "      <th>5</th>\n",
       "      <td>66</td>\n",
       "      <td>L17</td>\n",
       "      <td>None</td>\n",
       "      <td>528</td>\n",
       "      <td>150132</td>\n",
       "      <td>159355</td>\n",
       "      <td>31811.0</td>\n",
       "      <td>3692</td>\n",
       "      <td>POINT (282541.472 8670064.495)</td>\n",
       "    </tr>\n",
       "    <tr>\n",
       "      <th>10</th>\n",
       "      <td>71</td>\n",
       "      <td>L15</td>\n",
       "      <td>None</td>\n",
       "      <td>819A</td>\n",
       "      <td>150132</td>\n",
       "      <td>152388</td>\n",
       "      <td>31852.0</td>\n",
       "      <td>3697</td>\n",
       "      <td>POINT (282279.506 8669810.186)</td>\n",
       "    </tr>\n",
       "    <tr>\n",
       "      <th>37</th>\n",
       "      <td>98</td>\n",
       "      <td>L10</td>\n",
       "      <td>None</td>\n",
       "      <td>1029B</td>\n",
       "      <td>150132</td>\n",
       "      <td>156930</td>\n",
       "      <td>31818.0</td>\n",
       "      <td>3724</td>\n",
       "      <td>POINT (282732.879 8669959.43)</td>\n",
       "    </tr>\n",
       "  </tbody>\n",
       "</table>\n",
       "</div>"
      ],
      "text/plain": [
       "    OBJECTID CODIGOPREDIO NUMEROLOTE NUMEROPUERTA CODIGODISTRITO  \\\n",
       "5         66          L17       None          528         150132   \n",
       "10        71          L15       None         819A         150132   \n",
       "37        98          L10       None        1029B         150132   \n",
       "\n",
       "   CODIGOSEGMENTOVIA  CODIGOMANZANA  CODIGOPUERTA  \\\n",
       "5             159355        31811.0          3692   \n",
       "10            152388        31852.0          3697   \n",
       "37            156930        31818.0          3724   \n",
       "\n",
       "                          geometry  \n",
       "5   POINT (282541.472 8670064.495)  \n",
       "10  POINT (282279.506 8669810.186)  \n",
       "37   POINT (282732.879 8669959.43)  "
      ]
     },
     "execution_count": 12,
     "metadata": {},
     "output_type": "execute_result"
    }
   ],
   "source": [
    "# Seleccionando un lista de filas\n",
    "puertas.loc[[5,10,37]]"
   ]
  },
  {
   "cell_type": "code",
   "execution_count": 13,
   "id": "38c7bc62-e95d-4813-b795-d2a19322ad97",
   "metadata": {},
   "outputs": [
    {
     "data": {
      "text/html": [
       "<div>\n",
       "<style scoped>\n",
       "    .dataframe tbody tr th:only-of-type {\n",
       "        vertical-align: middle;\n",
       "    }\n",
       "\n",
       "    .dataframe tbody tr th {\n",
       "        vertical-align: top;\n",
       "    }\n",
       "\n",
       "    .dataframe thead th {\n",
       "        text-align: right;\n",
       "    }\n",
       "</style>\n",
       "<table border=\"1\" class=\"dataframe\">\n",
       "  <thead>\n",
       "    <tr style=\"text-align: right;\">\n",
       "      <th></th>\n",
       "      <th>OBJECTID</th>\n",
       "      <th>CODIGOPREDIO</th>\n",
       "      <th>NUMEROLOTE</th>\n",
       "      <th>NUMEROPUERTA</th>\n",
       "      <th>CODIGODISTRITO</th>\n",
       "      <th>CODIGOSEGMENTOVIA</th>\n",
       "      <th>CODIGOMANZANA</th>\n",
       "      <th>CODIGOPUERTA</th>\n",
       "      <th>geometry</th>\n",
       "    </tr>\n",
       "  </thead>\n",
       "  <tbody>\n",
       "    <tr>\n",
       "      <th>40</th>\n",
       "      <td>101</td>\n",
       "      <td>L10</td>\n",
       "      <td>None</td>\n",
       "      <td>547</td>\n",
       "      <td>150132</td>\n",
       "      <td>162589</td>\n",
       "      <td>31625.0</td>\n",
       "      <td>3727</td>\n",
       "      <td>POINT (281663.218 8670001.857)</td>\n",
       "    </tr>\n",
       "    <tr>\n",
       "      <th>41</th>\n",
       "      <td>102</td>\n",
       "      <td>L17</td>\n",
       "      <td>None</td>\n",
       "      <td>100</td>\n",
       "      <td>150132</td>\n",
       "      <td>155519</td>\n",
       "      <td>31625.0</td>\n",
       "      <td>3728</td>\n",
       "      <td>POINT (281605.177 8669902.147)</td>\n",
       "    </tr>\n",
       "    <tr>\n",
       "      <th>42</th>\n",
       "      <td>103</td>\n",
       "      <td>L47</td>\n",
       "      <td>None</td>\n",
       "      <td>S/N</td>\n",
       "      <td>150132</td>\n",
       "      <td>-1</td>\n",
       "      <td>31617.0</td>\n",
       "      <td>3729</td>\n",
       "      <td>POINT (281436.459 8669876.181)</td>\n",
       "    </tr>\n",
       "  </tbody>\n",
       "</table>\n",
       "</div>"
      ],
      "text/plain": [
       "    OBJECTID CODIGOPREDIO NUMEROLOTE NUMEROPUERTA CODIGODISTRITO  \\\n",
       "40       101          L10       None          547         150132   \n",
       "41       102          L17       None          100         150132   \n",
       "42       103          L47       None          S/N         150132   \n",
       "\n",
       "   CODIGOSEGMENTOVIA  CODIGOMANZANA  CODIGOPUERTA  \\\n",
       "40            162589        31625.0          3727   \n",
       "41            155519        31625.0          3728   \n",
       "42                -1        31617.0          3729   \n",
       "\n",
       "                          geometry  \n",
       "40  POINT (281663.218 8670001.857)  \n",
       "41  POINT (281605.177 8669902.147)  \n",
       "42  POINT (281436.459 8669876.181)  "
      ]
     },
     "execution_count": 13,
     "metadata": {},
     "output_type": "execute_result"
    }
   ],
   "source": [
    "# Seleccionando filas con un slice \n",
    "# (solo si los indices son números enteros)\n",
    "puertas.loc[40:42]"
   ]
  },
  {
   "cell_type": "markdown",
   "id": "61407b0c-398c-4b6d-b344-5ec353f56b0f",
   "metadata": {},
   "source": [
    "### **2.2. Selección de columnas**\n",
    "\n",
    "El método **`loc`** también permite seleccionar solo columnas. Para obtener todas las filas, se utiliza **`:`** en la posición correspondiente. Aplicado de esta forma, los resultados obtenidos son equivalentes a los generados mediante los operadores de indexación (`[]`).\n",
    "\n",
    "Selección de **una única columna**: \"NUMEROPUERTA\""
   ]
  },
  {
   "cell_type": "code",
   "execution_count": 14,
   "id": "de455639-c0cb-4f23-bd08-6fe9407400eb",
   "metadata": {},
   "outputs": [
    {
     "data": {
      "text/plain": [
       "0     842\n",
       "1    811A\n",
       "2     930\n",
       "Name: NUMEROPUERTA, dtype: object"
      ]
     },
     "execution_count": 14,
     "metadata": {},
     "output_type": "execute_result"
    }
   ],
   "source": [
    "puertas.loc[:,'NUMEROPUERTA'].head(3)"
   ]
  },
  {
   "cell_type": "markdown",
   "id": "02bdf5a5-28e9-4331-9954-e78324a2ace7",
   "metadata": {},
   "source": [
    "Para seleccionar **múltiples columnas**, podemos proporcionar directamente una lista con sus nombres. Sin embargo, para mejorar la legibilidad del código, declararemos una variable cols que contenga dicha lista."
   ]
  },
  {
   "cell_type": "code",
   "execution_count": 15,
   "id": "5918f9b3-297a-442f-835b-5219c05c8b62",
   "metadata": {},
   "outputs": [
    {
     "data": {
      "text/html": [
       "<div>\n",
       "<style scoped>\n",
       "    .dataframe tbody tr th:only-of-type {\n",
       "        vertical-align: middle;\n",
       "    }\n",
       "\n",
       "    .dataframe tbody tr th {\n",
       "        vertical-align: top;\n",
       "    }\n",
       "\n",
       "    .dataframe thead th {\n",
       "        text-align: right;\n",
       "    }\n",
       "</style>\n",
       "<table border=\"1\" class=\"dataframe\">\n",
       "  <thead>\n",
       "    <tr style=\"text-align: right;\">\n",
       "      <th></th>\n",
       "      <th>NUMEROPUERTA</th>\n",
       "      <th>CODIGODISTRITO</th>\n",
       "      <th>geometry</th>\n",
       "    </tr>\n",
       "  </thead>\n",
       "  <tbody>\n",
       "    <tr>\n",
       "      <th>0</th>\n",
       "      <td>842</td>\n",
       "      <td>150132</td>\n",
       "      <td>POINT (282306.453 8669914.377)</td>\n",
       "    </tr>\n",
       "    <tr>\n",
       "      <th>1</th>\n",
       "      <td>811A</td>\n",
       "      <td>150132</td>\n",
       "      <td>POINT (282245.352 8669863.459)</td>\n",
       "    </tr>\n",
       "    <tr>\n",
       "      <th>2</th>\n",
       "      <td>930</td>\n",
       "      <td>150132</td>\n",
       "      <td>POINT (282501.278 8670013.832)</td>\n",
       "    </tr>\n",
       "  </tbody>\n",
       "</table>\n",
       "</div>"
      ],
      "text/plain": [
       "  NUMEROPUERTA CODIGODISTRITO                        geometry\n",
       "0          842         150132  POINT (282306.453 8669914.377)\n",
       "1         811A         150132  POINT (282245.352 8669863.459)\n",
       "2          930         150132  POINT (282501.278 8670013.832)"
      ]
     },
     "execution_count": 15,
     "metadata": {},
     "output_type": "execute_result"
    }
   ],
   "source": [
    "cols= ['NUMEROPUERTA', 'CODIGODISTRITO', 'geometry']\n",
    "puertas.loc[:, cols].head(3)"
   ]
  },
  {
   "cell_type": "markdown",
   "id": "fe29b69a-67aa-4fed-a92a-13db4d8af963",
   "metadata": {},
   "source": [
    "### **2.3. Selección de filas y columnas**\n",
    "\n",
    "Una de las principales ventajas de **`loc`** es su capacidad para filtrar filas y columnas simultáneamente de forma intuitiva, utilizando etiquetas en ambas dimensiones. Esto facilita la aplicación de **selecciones condicionales** y la **asignación de nuevos valores**.\n",
    "\n",
    "Selección de **una fila y una columna**:"
   ]
  },
  {
   "cell_type": "code",
   "execution_count": 16,
   "id": "8b23b78f-d74e-48b5-8eee-f0cd047ed2bb",
   "metadata": {},
   "outputs": [
    {
     "data": {
      "text/plain": [
       "'528'"
      ]
     },
     "execution_count": 16,
     "metadata": {},
     "output_type": "execute_result"
    }
   ],
   "source": [
    "# Seleccionando un lista de filas\n",
    "puertas.loc[5, 'NUMEROPUERTA']"
   ]
  },
  {
   "cell_type": "markdown",
   "id": "eebb07e0-2fa8-45bd-97e0-805d4e860a91",
   "metadata": {},
   "source": [
    "Selección de **multiples filas y columnas**"
   ]
  },
  {
   "cell_type": "code",
   "execution_count": 17,
   "id": "823ebc3f-f0a0-4369-a594-2503bc6c153f",
   "metadata": {},
   "outputs": [
    {
     "data": {
      "text/html": [
       "<div>\n",
       "<style scoped>\n",
       "    .dataframe tbody tr th:only-of-type {\n",
       "        vertical-align: middle;\n",
       "    }\n",
       "\n",
       "    .dataframe tbody tr th {\n",
       "        vertical-align: top;\n",
       "    }\n",
       "\n",
       "    .dataframe thead th {\n",
       "        text-align: right;\n",
       "    }\n",
       "</style>\n",
       "<table border=\"1\" class=\"dataframe\">\n",
       "  <thead>\n",
       "    <tr style=\"text-align: right;\">\n",
       "      <th></th>\n",
       "      <th>CODIGOPREDIO</th>\n",
       "      <th>NUMEROPUERTA</th>\n",
       "    </tr>\n",
       "  </thead>\n",
       "  <tbody>\n",
       "    <tr>\n",
       "      <th>5</th>\n",
       "      <td>L17</td>\n",
       "      <td>528</td>\n",
       "    </tr>\n",
       "    <tr>\n",
       "      <th>6</th>\n",
       "      <td>L11</td>\n",
       "      <td>529</td>\n",
       "    </tr>\n",
       "    <tr>\n",
       "      <th>7</th>\n",
       "      <td>L10</td>\n",
       "      <td>535</td>\n",
       "    </tr>\n",
       "    <tr>\n",
       "      <th>8</th>\n",
       "      <td>L01</td>\n",
       "      <td>273</td>\n",
       "    </tr>\n",
       "  </tbody>\n",
       "</table>\n",
       "</div>"
      ],
      "text/plain": [
       "  CODIGOPREDIO NUMEROPUERTA\n",
       "5          L17          528\n",
       "6          L11          529\n",
       "7          L10          535\n",
       "8          L01          273"
      ]
     },
     "execution_count": 17,
     "metadata": {},
     "output_type": "execute_result"
    }
   ],
   "source": [
    "puertas.loc[[5,6,7,8], ['CODIGOPREDIO','NUMEROPUERTA']]"
   ]
  },
  {
   "cell_type": "markdown",
   "id": "bd9f8d4d-b680-4d16-bf23-98ab5742520a",
   "metadata": {},
   "source": [
    "Selección de **múltiples filas y columnas**, aplicando un slice para las filas:"
   ]
  },
  {
   "cell_type": "code",
   "execution_count": 18,
   "id": "af96daf4-4f2e-4bc5-94a9-900aab11a86d",
   "metadata": {},
   "outputs": [
    {
     "data": {
      "text/html": [
       "<div>\n",
       "<style scoped>\n",
       "    .dataframe tbody tr th:only-of-type {\n",
       "        vertical-align: middle;\n",
       "    }\n",
       "\n",
       "    .dataframe tbody tr th {\n",
       "        vertical-align: top;\n",
       "    }\n",
       "\n",
       "    .dataframe thead th {\n",
       "        text-align: right;\n",
       "    }\n",
       "</style>\n",
       "<table border=\"1\" class=\"dataframe\">\n",
       "  <thead>\n",
       "    <tr style=\"text-align: right;\">\n",
       "      <th></th>\n",
       "      <th>CODIGOPREDIO</th>\n",
       "      <th>NUMEROPUERTA</th>\n",
       "    </tr>\n",
       "  </thead>\n",
       "  <tbody>\n",
       "    <tr>\n",
       "      <th>5</th>\n",
       "      <td>L17</td>\n",
       "      <td>528</td>\n",
       "    </tr>\n",
       "    <tr>\n",
       "      <th>6</th>\n",
       "      <td>L11</td>\n",
       "      <td>529</td>\n",
       "    </tr>\n",
       "    <tr>\n",
       "      <th>7</th>\n",
       "      <td>L10</td>\n",
       "      <td>535</td>\n",
       "    </tr>\n",
       "    <tr>\n",
       "      <th>8</th>\n",
       "      <td>L01</td>\n",
       "      <td>273</td>\n",
       "    </tr>\n",
       "  </tbody>\n",
       "</table>\n",
       "</div>"
      ],
      "text/plain": [
       "  CODIGOPREDIO NUMEROPUERTA\n",
       "5          L17          528\n",
       "6          L11          529\n",
       "7          L10          535\n",
       "8          L01          273"
      ]
     },
     "execution_count": 18,
     "metadata": {},
     "output_type": "execute_result"
    }
   ],
   "source": [
    "puertas.loc[5:8, ['CODIGOPREDIO','NUMEROPUERTA']]"
   ]
  },
  {
   "cell_type": "markdown",
   "id": "9a0acda8-ea50-47e5-bb5f-424e46d6a8d6",
   "metadata": {},
   "source": [
    "### **2.4. Selección por condición**\n",
    "\n",
    "Con **`loc`**, es posible realizar selecciones condicionales, filtrando filas que cumplen una determinada condición y mostrando únicamente las columnas de interés.\n",
    "\n",
    "```{note}\n",
    "El método **`loc`** tambien **admite múltiples condiciones**, que pueden concatenarse con los operadores **AND (&)** y **OR (|)**. Estas condiciones **pueden definirse directamente** o **almacenarse en variables** para mejorar la legibilidad del código.\n",
    "```\n",
    "\n",
    "A continuación, realizaremos una selección condicional para mostrar todas las filas donde `NUMEROPUERTA` no tiene nombre, mostrando únicamente las columnas `CODIGOPREDIO y `NUMEROPUERTA`. Aplicaremos estas condiciones directamente:"
   ]
  },
  {
   "cell_type": "code",
   "execution_count": 19,
   "id": "fd434424-3321-49d3-b303-6c968e44b491",
   "metadata": {},
   "outputs": [
    {
     "data": {
      "text/html": [
       "<div>\n",
       "<style scoped>\n",
       "    .dataframe tbody tr th:only-of-type {\n",
       "        vertical-align: middle;\n",
       "    }\n",
       "\n",
       "    .dataframe tbody tr th {\n",
       "        vertical-align: top;\n",
       "    }\n",
       "\n",
       "    .dataframe thead th {\n",
       "        text-align: right;\n",
       "    }\n",
       "</style>\n",
       "<table border=\"1\" class=\"dataframe\">\n",
       "  <thead>\n",
       "    <tr style=\"text-align: right;\">\n",
       "      <th></th>\n",
       "      <th>CODIGOPREDIO</th>\n",
       "      <th>NUMEROPUERTA</th>\n",
       "    </tr>\n",
       "  </thead>\n",
       "  <tbody>\n",
       "    <tr>\n",
       "      <th>9</th>\n",
       "      <td>L16</td>\n",
       "      <td>S/N</td>\n",
       "    </tr>\n",
       "    <tr>\n",
       "      <th>12</th>\n",
       "      <td>L44</td>\n",
       "      <td>S/N</td>\n",
       "    </tr>\n",
       "    <tr>\n",
       "      <th>14</th>\n",
       "      <td>L19</td>\n",
       "      <td>S/N</td>\n",
       "    </tr>\n",
       "  </tbody>\n",
       "</table>\n",
       "</div>"
      ],
      "text/plain": [
       "   CODIGOPREDIO NUMEROPUERTA\n",
       "9           L16          S/N\n",
       "12          L44          S/N\n",
       "14          L19          S/N"
      ]
     },
     "execution_count": 19,
     "metadata": {},
     "output_type": "execute_result"
    }
   ],
   "source": [
    "puertas.loc[puertas.NUMEROPUERTA == 'S/N', ['CODIGOPREDIO','NUMEROPUERTA']].head(3)"
   ]
  },
  {
   "cell_type": "markdown",
   "id": "a7ff95d8-d508-454c-b1e0-61740d0ba65d",
   "metadata": {},
   "source": [
    "Al calcular estadísticas de completitud, el valor \"S/N\" se considera un dato válido. Sin embargo, no representa un número de puerta real, por lo que podemos depurarlo reemplazándolo por `NaN`. Esto permitirá obtener estadísticas de completitud más precisas.\n",
    "\n",
    "En el siguiente apartado, aplicaremos esta limpieza asignando valores a una columna específica."
   ]
  },
  {
   "cell_type": "markdown",
   "id": "f07aa5c5-b9dc-497e-aaea-8f6b2192e067",
   "metadata": {},
   "source": [
    "### **2.5. Asignación de nuevo valores**\n",
    "\n",
    "Una de las ventajas más relevantes de **`loc`** es su capacidad para asignar valores a una o varias columnas, siempre que las filas cumplan una determinada condición.\n",
    "\n",
    "En el apartado anterior, identificamos filas donde `NUMEROPUERTA` no tiene un valor válido, lo que puede afectar los análisis de completitud. En este ejemplo, reemplazaremos esos valores por `NaN` para mejorar la calidad de los datos."
   ]
  },
  {
   "cell_type": "code",
   "execution_count": 20,
   "id": "0fa10c50-ea3d-466b-87e5-e8711e550a66",
   "metadata": {},
   "outputs": [
    {
     "data": {
      "text/html": [
       "<div>\n",
       "<style scoped>\n",
       "    .dataframe tbody tr th:only-of-type {\n",
       "        vertical-align: middle;\n",
       "    }\n",
       "\n",
       "    .dataframe tbody tr th {\n",
       "        vertical-align: top;\n",
       "    }\n",
       "\n",
       "    .dataframe thead th {\n",
       "        text-align: right;\n",
       "    }\n",
       "</style>\n",
       "<table border=\"1\" class=\"dataframe\">\n",
       "  <thead>\n",
       "    <tr style=\"text-align: right;\">\n",
       "      <th></th>\n",
       "      <th>CODIGOPREDIO</th>\n",
       "      <th>NUMEROPUERTA</th>\n",
       "    </tr>\n",
       "  </thead>\n",
       "  <tbody>\n",
       "    <tr>\n",
       "      <th>9</th>\n",
       "      <td>L16</td>\n",
       "      <td>NaN</td>\n",
       "    </tr>\n",
       "    <tr>\n",
       "      <th>12</th>\n",
       "      <td>L44</td>\n",
       "      <td>NaN</td>\n",
       "    </tr>\n",
       "    <tr>\n",
       "      <th>14</th>\n",
       "      <td>L19</td>\n",
       "      <td>NaN</td>\n",
       "    </tr>\n",
       "  </tbody>\n",
       "</table>\n",
       "</div>"
      ],
      "text/plain": [
       "   CODIGOPREDIO NUMEROPUERTA\n",
       "9           L16          NaN\n",
       "12          L44          NaN\n",
       "14          L19          NaN"
      ]
     },
     "execution_count": 20,
     "metadata": {},
     "output_type": "execute_result"
    }
   ],
   "source": [
    "# Reemplazando los NUMEROPUERTA sin nombre por NaN\n",
    "puertas.loc[puertas.NUMEROPUERTA == 'S/N', 'NUMEROPUERTA'] = np.nan\n",
    "\n",
    "# Verificando\n",
    "puertas.loc[puertas.NUMEROPUERTA.isna(), ['CODIGOPREDIO','NUMEROPUERTA']].head(3)"
   ]
  },
  {
   "cell_type": "markdown",
   "id": "8867224b-d906-482c-9155-d2ee6e4359e2",
   "metadata": {},
   "source": [
    "Del mismo modo, podemos crear una nueva columna, por ejemplo donde se guarde el dato si el número es par o impar:"
   ]
  },
  {
   "cell_type": "code",
   "execution_count": 21,
   "id": "3e343c58-8c29-4066-a113-0e5269b0820e",
   "metadata": {},
   "outputs": [
    {
     "data": {
      "text/html": [
       "<div>\n",
       "<style scoped>\n",
       "    .dataframe tbody tr th:only-of-type {\n",
       "        vertical-align: middle;\n",
       "    }\n",
       "\n",
       "    .dataframe tbody tr th {\n",
       "        vertical-align: top;\n",
       "    }\n",
       "\n",
       "    .dataframe thead th {\n",
       "        text-align: right;\n",
       "    }\n",
       "</style>\n",
       "<table border=\"1\" class=\"dataframe\">\n",
       "  <thead>\n",
       "    <tr style=\"text-align: right;\">\n",
       "      <th></th>\n",
       "      <th>CODIGOPREDIO</th>\n",
       "      <th>NUMEROPUERTA</th>\n",
       "      <th>paridad</th>\n",
       "    </tr>\n",
       "  </thead>\n",
       "  <tbody>\n",
       "    <tr>\n",
       "      <th>0</th>\n",
       "      <td>L38</td>\n",
       "      <td>842</td>\n",
       "      <td>Pares</td>\n",
       "    </tr>\n",
       "    <tr>\n",
       "      <th>1</th>\n",
       "      <td>L24</td>\n",
       "      <td>811A</td>\n",
       "      <td>Impares</td>\n",
       "    </tr>\n",
       "    <tr>\n",
       "      <th>2</th>\n",
       "      <td>L21</td>\n",
       "      <td>930</td>\n",
       "      <td>Pares</td>\n",
       "    </tr>\n",
       "    <tr>\n",
       "      <th>3</th>\n",
       "      <td>L13</td>\n",
       "      <td>943</td>\n",
       "      <td>Impares</td>\n",
       "    </tr>\n",
       "    <tr>\n",
       "      <th>4</th>\n",
       "      <td>L06</td>\n",
       "      <td>971</td>\n",
       "      <td>Impares</td>\n",
       "    </tr>\n",
       "    <tr>\n",
       "      <th>5</th>\n",
       "      <td>L17</td>\n",
       "      <td>528</td>\n",
       "      <td>Pares</td>\n",
       "    </tr>\n",
       "    <tr>\n",
       "      <th>6</th>\n",
       "      <td>L11</td>\n",
       "      <td>529</td>\n",
       "      <td>Impares</td>\n",
       "    </tr>\n",
       "    <tr>\n",
       "      <th>7</th>\n",
       "      <td>L10</td>\n",
       "      <td>535</td>\n",
       "      <td>Impares</td>\n",
       "    </tr>\n",
       "    <tr>\n",
       "      <th>8</th>\n",
       "      <td>L01</td>\n",
       "      <td>273</td>\n",
       "      <td>Impares</td>\n",
       "    </tr>\n",
       "    <tr>\n",
       "      <th>9</th>\n",
       "      <td>L16</td>\n",
       "      <td>NaN</td>\n",
       "      <td>NaN</td>\n",
       "    </tr>\n",
       "  </tbody>\n",
       "</table>\n",
       "</div>"
      ],
      "text/plain": [
       "  CODIGOPREDIO NUMEROPUERTA  paridad\n",
       "0          L38          842    Pares\n",
       "1          L24         811A  Impares\n",
       "2          L21          930    Pares\n",
       "3          L13          943  Impares\n",
       "4          L06          971  Impares\n",
       "5          L17          528    Pares\n",
       "6          L11          529  Impares\n",
       "7          L10          535  Impares\n",
       "8          L01          273  Impares\n",
       "9          L16          NaN      NaN"
      ]
     },
     "execution_count": 21,
     "metadata": {},
     "output_type": "execute_result"
    }
   ],
   "source": [
    "# Condicion para evaluar puertas pares\n",
    "conPares = puertas.NUMEROPUERTA.str.extract(r\"(\\d+)\")[0].str[-1]\\\n",
    "                  .isin([str(i) for i in list(range(0,9,2))])\n",
    "\n",
    "# Condicion para evaluar puertas impares\n",
    "conNones = puertas.NUMEROPUERTA.str.extract(r\"(\\d+)\")[0].str[-1]\\\n",
    "                  .isin([str(i) for i in list(range(1,10,2))])\n",
    "\n",
    "# Aplicando las condiciones para calcular un nuevo campo \"Paridad\"\n",
    "puertas.loc[conPares,'paridad'] = 'Pares'\n",
    "puertas.loc[conNones,'paridad'] = 'Impares'\n",
    "\n",
    "# Visualizando:\n",
    "puertas[['CODIGOPREDIO','NUMEROPUERTA','paridad']].head(10)"
   ]
  },
  {
   "cell_type": "markdown",
   "id": "b14c345a-5b1e-4171-97c7-9db3a54716af",
   "metadata": {},
   "source": [
    "## **3. Selección por posición `.iloc`**\n",
    "\n",
    "La selección por posición se realiza mediante el método _Pandas_ **[.iloc](https://pandas.pydata.org/docs/reference/api/pandas.DataFrame.iloc.html)**, que permite **acceder a filas y columnas mediante índices enteros basados en su posición**."
   ]
  },
  {
   "cell_type": "code",
   "execution_count": null,
   "id": "1addd7d1-2bb5-4817-8050-637efe7bbaee",
   "metadata": {},
   "outputs": [],
   "source": []
  },
  {
   "cell_type": "markdown",
   "id": "c7d7ef52-f602-4740-9346-5c6b8bee391e",
   "metadata": {},
   "source": [
    "## **4. Selección por cuadro delimitador `.cx`**"
   ]
  },
  {
   "cell_type": "code",
   "execution_count": null,
   "id": "2308a510-9cf7-4ece-bc5d-86f3d62fe9f1",
   "metadata": {},
   "outputs": [],
   "source": []
  }
 ],
 "metadata": {
  "kernelspec": {
   "display_name": "Python 3 (ipykernel)",
   "language": "python",
   "name": "python3"
  },
  "language_info": {
   "codemirror_mode": {
    "name": "ipython",
    "version": 3
   },
   "file_extension": ".py",
   "mimetype": "text/x-python",
   "name": "python",
   "nbconvert_exporter": "python",
   "pygments_lexer": "ipython3",
   "version": "3.9.7"
  }
 },
 "nbformat": 4,
 "nbformat_minor": 5
}
