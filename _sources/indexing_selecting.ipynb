{
 "cells": [
  {
   "cell_type": "markdown",
   "id": "0e760b9a-f846-4004-a17a-924b8b58f0fb",
   "metadata": {},
   "source": [
    "# **Indexación y selección de datos**\n",
    "\n",
    "En el análisis geoespacial, la capacidad de filtrar, consultar y extraer información de grandes conjuntos de datos es fundamental, ya que permite **optimizar** la manipulación de datos espaciales, **aislar** regiones de interés y mejorar la **eficiencia** en los análisis. Estas operaciones no solo facilitan la exploración de datos, sino que también **reducen la carga computacional** al trabajar con información geográfica de gran escala.\n",
    "\n",
    "Para lograr esto, `GeoPandas` extiende las funcionalidades de `Pandas`, proporcionando métodos de **indexación y selección** que permiten **extraer subconjuntos de datos** de manera eficiente. En este artículo, exploraremos cómo realizar **selecciones** basadas en **etiquetas** y **posiciones**, así como la **selección espacial** basada en coordenadas, que facilita la extracción de datos cuyas geometrías intersectan un área delimitada. Estas herramientas son clave para estructurar consultas espaciales y optimizar el procesamiento de datos geográficos.\n",
    "\n",
    "Comenzaremos importando las librerías a utilizar"
   ]
  },
  {
   "cell_type": "code",
   "execution_count": 3,
   "id": "1939f06f-4597-4ec8-b237-37dca011fc8a",
   "metadata": {},
   "outputs": [],
   "source": [
    "# importar librerías\n",
    "import numpy as np\n",
    "import geopandas as gpd\n",
    "import warnings\n",
    "warnings.filterwarnings('ignore')"
   ]
  },
  {
   "cell_type": "markdown",
   "id": "6a33908d-4ed0-486d-a4cd-5b18f8adc07b",
   "metadata": {},
   "source": [
    "Carguemos los datos."
   ]
  },
  {
   "cell_type": "code",
   "execution_count": 4,
   "id": "902acdca-e6f0-45d3-a916-3f0c60813b18",
   "metadata": {},
   "outputs": [],
   "source": [
    "# Ruta del archivo\n",
    "uri=r'D:\\Charlie\\01_Cartografia\\catastro.gpkg'\n",
    "\n",
    "# Lectura como GeoDataFrame\n",
    "puertas = gpd.read_file(uri, layer='puertas')"
   ]
  },
  {
   "cell_type": "markdown",
   "id": "c7ceaa9c-7264-4c84-83ac-b9087935f5d0",
   "metadata": {},
   "source": [
    "Veamos las columnas de esta capa:"
   ]
  },
  {
   "cell_type": "code",
   "execution_count": 5,
   "id": "a23208ec-75b5-4677-a917-807f26b5ec31",
   "metadata": {},
   "outputs": [
    {
     "data": {
      "text/plain": [
       "array(['OBJECTID', 'CODIGOPREDIO', 'NUMEROLOTE', 'NUMEROPUERTA',\n",
       "       'CODIGODISTRITO', 'CODIGOSEGMENTOVIA', 'CODIGOMANZANA',\n",
       "       'CODIGOPUERTA', 'geometry'], dtype=object)"
      ]
     },
     "execution_count": 5,
     "metadata": {},
     "output_type": "execute_result"
    }
   ],
   "source": [
    "puertas.columns.values"
   ]
  },
  {
   "cell_type": "markdown",
   "id": "e62b3723-6879-47b0-8947-bdc1b7c40997",
   "metadata": {},
   "source": [
    "## **1. Operadores de Indexación**\n",
    "\n",
    "Los operadores de indexación de _Python_ y _NumPy_ `[]`, así como el operador de atributo `.`, proporcionan un acceso rápido y sencillo a las estructuras de datos de _pandas_ en una amplia variedad de casos de uso. A continuación, se presentan las principales formas de selección en un `DataFrame`."
   ]
  },
  {
   "cell_type": "markdown",
   "id": "82333ad6-f79c-47b0-b2ca-b46ac94c4dac",
   "metadata": {},
   "source": [
    "N°|Tipo|Uso|Sintaxis|Retorno\n",
    "--|----|-----------|--------|--------\n",
    "**1**|**Selección de una columna**|Especificar la etiqueta dentro del operador `[]`. También podemos usar el operador `.`, siempre que la etiqueta de la columna sea válida|`df[col1]`<br>`df.col1`|Los valores de `col1`\n",
    "**2**|**Selección de múltiples columnas**|Especificar una **lista de etiquetas**|`df[[col1,col2]]`|Los valores de `col1` y `col2`\n",
    "**3**|**Selección mediante `slincing`**|Indicar un rango de etiquetas \"Desde:Hasta\"|`df[colA:colN]`|Los valores desde `colA` hasta `colN`, incluyendolos\n",
    "**4**|**Selección con máscaras boleanas**|Mediante **expresiones lógicas**, se genera una `Serie booleana` en la que **`True`** indica las **filas a conservar** y **`False`** las que **se descartan**.<br><br>Para combinar varias expresiones utilizamos `&` (**AND**), `\\|` (**OR**) y `~` (**NOT**). Es importante usar paréntesis para definir la prioridad de evaluación.|`df[<expresiones>]`|Los valores que cumplen las expresiones lógicas"
   ]
  },
  {
   "cell_type": "markdown",
   "id": "84c650e8-f53d-45c9-a66c-5abc7628a04e",
   "metadata": {},
   "source": [
    "## **2. Selección por etiqueta: `.loc`**\n",
    "\n",
    "La selección por etiqueta se realiza mediante el método _Pandas_ **[.loc](https://pandas.pydata.org/docs/reference/api/pandas.DataFrame.loc.html)**, que permite **acceder a filas y columnas** a través de sus **nombres de índice**.\n",
    "\n",
    "\n",
    "| **N°** | **Tipo** | **Uso** | **Sintaxis** | **Retorno** |\n",
    "|--|----|-----------|---------|--------|\n",
    "| **1** | **Selección de una fila/columna** | Especificar la **etiqueta** de una fila o columna. | * `df.loc[row1]`<br>* `df.loc[:, col1]` | Valores de la fila `row1` o la columna `col1`. |\n",
    "| **2** | **Selección de múltiples filas/columnas** | Especificar una **lista de etiquetas** de filas o columnas. | * `df.loc[[row1, row2]]`<br>* `df.loc[:, [col1, col2]]` | Subconjunto de datos con las filas o columnas seleccionadas. |\n",
    "| **3** | **Selección de filas/columnas mediante `slicing`** | Indicar un **rango de etiquetas** de filas o columnas en el formato `\"Desde:Hasta\"`. | * `df.loc[rowA:rowN]`<br>* `df.loc[:, colA:colN]` | Subconjunto de datos dentro del rango de filas o columnas especificadas, incluyéndolas. |\n",
    "| **4** | **Selección de una fila y una columna** | Especificar **ambas etiquetas** para acceder a un valor específico. | * `df.loc[row1, col1]` | Valor en la intersección de la fila `row1` y la columna `col1`. |\n",
    "| **5** | **Selección de múltiples filas y columnas** | Proporcionar una **lista de etiquetas** en ambos ejes. | * `df.loc[[row1, row2], [col1, col2]]` | Subconjunto de datos con las filas y columnas indicadas. |\n",
    "| **6** | **Selección de múltiples filas y columnas mediante `slicing`** | Indicar un **rango de etiquetas** en ambos ejes. | * `df.loc[rowA:rowN, colA:colN]` | Subconjunto de datos dentro del rango de filas y columnas especificadas, incluyéndolas. |\n",
    "| **7** | **Selección con máscaras booleanas** | Utilizar **expresiones lógicas** que generan una `Serie booleana`, donde **`True`** indica las filas a conservar y **`False`** las que se descartan.<br><br>Para combinar expresiones, usar `&` (**AND**), `\\|` (**OR**) y `~` (**NOT**). Se recomienda utilizar paréntesis para definir la prioridad de evaluación. | * `df.loc[<expresión>]` | Subconjunto de datos que cumple con la condición establecida. |\n",
    "| **8** | **Actualización de un valor** | Modificar el contenido de una celda especificando su fila y columna. | * `df.loc[row1, col1] = <nuevo_valor>` | El valor en la intersección de la fila y columna indicadas se actualiza. |\n",
    "| **9** | **Actualización de valores con máscaras booleanas** | Modificar el contenido de una columna solo en las filas que cumplan una condición.<br><br>Es importante especificar correctamente las columnas, ya que los cambios se aplican a todas las indicadas. Si no se define una columna, la modificación afectará a todas.| * `df.loc[<expresión>, <col>] = <nuevo_valor>` | Actualiza los valores de la columna donde la condición se evalúe como `True`. |"
   ]
  },
  {
   "cell_type": "markdown",
   "id": "b14c345a-5b1e-4171-97c7-9db3a54716af",
   "metadata": {},
   "source": [
    "## **3. Selección por posición `.iloc`**\n",
    "\n",
    "La selección por posición se realiza mediante el método _Pandas_ **[.iloc](https://pandas.pydata.org/docs/reference/api/pandas.DataFrame.iloc.html)**, que permite **acceder a filas y columnas** mediante **índices enteros basados en su posición**."
   ]
  }
 ],
 "metadata": {
  "kernelspec": {
   "display_name": "Python 3 (ipykernel)",
   "language": "python",
   "name": "python3"
  },
  "language_info": {
   "codemirror_mode": {
    "name": "ipython",
    "version": 3
   },
   "file_extension": ".py",
   "mimetype": "text/x-python",
   "name": "python",
   "nbconvert_exporter": "python",
   "pygments_lexer": "ipython3",
   "version": "3.9.7"
  }
 },
 "nbformat": 4,
 "nbformat_minor": 5
}
