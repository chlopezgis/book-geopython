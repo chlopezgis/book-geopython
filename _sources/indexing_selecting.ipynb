{
 "cells": [
  {
   "cell_type": "markdown",
   "id": "0e760b9a-f846-4004-a17a-924b8b58f0fb",
   "metadata": {},
   "source": [
    "# **Indexación y selección de datos**\n",
    "\n",
    "En el análisis geoespacial, la capacidad de filtrar, consultar y extraer información de grandes conjuntos de datos es fundamental, ya que permite **optimizar** la manipulación de datos espaciales, **aislar** regiones de interés y mejorar la **eficiencia** en los análisis. Estas operaciones no solo facilitan la exploración de datos, sino que también **reducen la carga computacional** al trabajar con información geográfica de gran escala.\n",
    "\n",
    "Para lograr esto, `GeoPandas` extiende las funcionalidades de `Pandas`, proporcionando métodos de **indexación y selección** que permiten **extraer subconjuntos de datos** de manera eficiente. En este artículo, exploraremos cómo realizar **selecciones** basadas en **etiquetas** y **posiciones**, así como la **selección espacial** basada en coordenadas, que facilita la extracción de datos cuyas geometrías intersectan un área delimitada. Estas herramientas son clave para estructurar consultas espaciales y optimizar el procesamiento de datos geográficos.\n",
    "\n",
    "Comenzaremos importando las librerías necesarias y cargando los datos que utilizaremos en este tutorial."
   ]
  },
  {
   "cell_type": "code",
   "execution_count": 1,
   "id": "1939f06f-4597-4ec8-b237-37dca011fc8a",
   "metadata": {},
   "outputs": [],
   "source": [
    "# importar librerías\n",
    "import numpy as np\n",
    "import geopandas as gpd\n",
    "import warnings\n",
    "warnings.filterwarnings('ignore')"
   ]
  },
  {
   "cell_type": "code",
   "execution_count": 2,
   "id": "902acdca-e6f0-45d3-a916-3f0c60813b18",
   "metadata": {},
   "outputs": [],
   "source": [
    "# Ruta del archivo\n",
    "uri=r'D:\\Charlie\\01_Cartografia\\catastro.gpkg'\n",
    "\n",
    "# Lectura como GeoDataFrame\n",
    "puertas = gpd.read_file(uri, layer='puertas')"
   ]
  },
  {
   "cell_type": "code",
   "execution_count": 3,
   "id": "c9148a10-e64a-4aa6-b75c-541fc58ffbff",
   "metadata": {},
   "outputs": [
    {
     "data": {
      "text/html": [
       "<div>\n",
       "<style scoped>\n",
       "    .dataframe tbody tr th:only-of-type {\n",
       "        vertical-align: middle;\n",
       "    }\n",
       "\n",
       "    .dataframe tbody tr th {\n",
       "        vertical-align: top;\n",
       "    }\n",
       "\n",
       "    .dataframe thead th {\n",
       "        text-align: right;\n",
       "    }\n",
       "</style>\n",
       "<table border=\"1\" class=\"dataframe\">\n",
       "  <thead>\n",
       "    <tr style=\"text-align: right;\">\n",
       "      <th></th>\n",
       "      <th>OBJECTID</th>\n",
       "      <th>CODIGOPREDIO</th>\n",
       "      <th>NUMEROLOTE</th>\n",
       "      <th>NUMEROPUERTA</th>\n",
       "      <th>CODIGODISTRITO</th>\n",
       "      <th>CODIGOSEGMENTOVIA</th>\n",
       "      <th>CODIGOMANZANA</th>\n",
       "      <th>CODIGOPUERTA</th>\n",
       "      <th>geometry</th>\n",
       "    </tr>\n",
       "  </thead>\n",
       "  <tbody>\n",
       "    <tr>\n",
       "      <th>0</th>\n",
       "      <td>61</td>\n",
       "      <td>L38</td>\n",
       "      <td>None</td>\n",
       "      <td>842</td>\n",
       "      <td>150132</td>\n",
       "      <td>147461</td>\n",
       "      <td>31856.0</td>\n",
       "      <td>3687</td>\n",
       "      <td>POINT (282306.453 8669914.377)</td>\n",
       "    </tr>\n",
       "    <tr>\n",
       "      <th>1</th>\n",
       "      <td>62</td>\n",
       "      <td>L24</td>\n",
       "      <td>None</td>\n",
       "      <td>811A</td>\n",
       "      <td>150132</td>\n",
       "      <td>147899</td>\n",
       "      <td>31856.0</td>\n",
       "      <td>3688</td>\n",
       "      <td>POINT (282245.352 8669863.459)</td>\n",
       "    </tr>\n",
       "  </tbody>\n",
       "</table>\n",
       "</div>"
      ],
      "text/plain": [
       "   OBJECTID CODIGOPREDIO NUMEROLOTE NUMEROPUERTA CODIGODISTRITO  \\\n",
       "0        61          L38       None          842         150132   \n",
       "1        62          L24       None         811A         150132   \n",
       "\n",
       "  CODIGOSEGMENTOVIA  CODIGOMANZANA  CODIGOPUERTA  \\\n",
       "0            147461        31856.0          3687   \n",
       "1            147899        31856.0          3688   \n",
       "\n",
       "                         geometry  \n",
       "0  POINT (282306.453 8669914.377)  \n",
       "1  POINT (282245.352 8669863.459)  "
      ]
     },
     "execution_count": 3,
     "metadata": {},
     "output_type": "execute_result"
    }
   ],
   "source": [
    "# Visualizar las dos primera filas\n",
    "puertas.head(2)"
   ]
  },
  {
   "cell_type": "markdown",
   "id": "c7ceaa9c-7264-4c84-83ac-b9087935f5d0",
   "metadata": {},
   "source": [
    "Veamos las columnas de esta capa:"
   ]
  },
  {
   "cell_type": "code",
   "execution_count": 4,
   "id": "a23208ec-75b5-4677-a917-807f26b5ec31",
   "metadata": {},
   "outputs": [
    {
     "data": {
      "text/plain": [
       "array(['OBJECTID', 'CODIGOPREDIO', 'NUMEROLOTE', 'NUMEROPUERTA',\n",
       "       'CODIGODISTRITO', 'CODIGOSEGMENTOVIA', 'CODIGOMANZANA',\n",
       "       'CODIGOPUERTA', 'geometry'], dtype=object)"
      ]
     },
     "execution_count": 4,
     "metadata": {},
     "output_type": "execute_result"
    }
   ],
   "source": [
    "puertas.columns.values"
   ]
  },
  {
   "cell_type": "markdown",
   "id": "e62b3723-6879-47b0-8947-bdc1b7c40997",
   "metadata": {},
   "source": [
    "## **1. Selección con Operadores de Indexación**\n",
    "\n",
    "Para seleccionar datos, podemos usar los operadores `[]` y `.`, que permiten **acceder a columnas** específicas y **filtrar subconjuntos** de datos mediante **máscaras booleanas**."
   ]
  },
  {
   "cell_type": "markdown",
   "id": "f8e8bf8e-c4d4-4da6-b887-a7355562b316",
   "metadata": {},
   "source": [
    "### **1.1. Selección de columnas**\n",
    "\n",
    "#### **Selección de una columna específica**\n",
    "\n",
    "Para acceder a una columna específica, debemos indicar su **etiqueta** de la siguiente manera:\n",
    "\n",
    "```{tip} Seleccionar una columna específica\n",
    "df[column1]\n",
    "```\n",
    "\n",
    "Por ejemplo, para seleccionar la columna `NUMEROPUERTA`:"
   ]
  },
  {
   "cell_type": "code",
   "execution_count": 5,
   "id": "40218c27-ef17-46a8-90f9-93efc7ac603a",
   "metadata": {},
   "outputs": [
    {
     "data": {
      "text/plain": [
       "0           842\n",
       "1          811A\n",
       "2           930\n",
       "3           943\n",
       "4           971\n",
       "           ... \n",
       "2323691     S/N\n",
       "2323692     S/N\n",
       "2323693     S/N\n",
       "2323694     S/N\n",
       "2323695     S/N\n",
       "Name: NUMEROPUERTA, Length: 2323696, dtype: object"
      ]
     },
     "execution_count": 5,
     "metadata": {},
     "output_type": "execute_result"
    }
   ],
   "source": [
    "# Seleccionar la columna NUMEROPUERTA\n",
    "puertas['NUMEROPUERTA']"
   ]
  },
  {
   "cell_type": "markdown",
   "id": "c17ea2d2-1db5-4ec6-afa2-2c0548305d84",
   "metadata": {},
   "source": [
    "También podemos usar el operador `.`, siempre que el nombre de la columna no contenga espacios ni caracteres especiales.\n",
    "\n",
    "```python\n",
    "df.column1\n",
    "```\n",
    "\n",
    "De esta forma, también podemos seleccionar la columna `NUMEROPUERTA`."
   ]
  },
  {
   "cell_type": "code",
   "execution_count": 6,
   "id": "8830f22b-36b3-46ff-9912-983bc9833d47",
   "metadata": {},
   "outputs": [
    {
     "data": {
      "text/plain": [
       "0           842\n",
       "1          811A\n",
       "2           930\n",
       "3           943\n",
       "4           971\n",
       "           ... \n",
       "2323691     S/N\n",
       "2323692     S/N\n",
       "2323693     S/N\n",
       "2323694     S/N\n",
       "2323695     S/N\n",
       "Name: NUMEROPUERTA, Length: 2323696, dtype: object"
      ]
     },
     "execution_count": 6,
     "metadata": {},
     "output_type": "execute_result"
    }
   ],
   "source": [
    "# Seleccionar la columna NUMEROPUERTA usando \".\"\n",
    "puertas.NUMEROPUERTA"
   ]
  },
  {
   "cell_type": "markdown",
   "id": "6e7cbdd3-62a3-46f9-9c24-4f5332635f37",
   "metadata": {},
   "source": [
    "#### **Selección de multiples columnas**\n",
    "\n",
    "Para seleccionar múltiples columnas, debemos proporcionar una **lista con sus etiquetas**:\n",
    "\n",
    "```python\n",
    "df[[column1, column2, ..., columnN]]\n",
    "```\n",
    "\n",
    "Por ejemplo, así seleccionamos las columnas `NUMEROPUERTA`, `CODIGODISTRITO` y `geometry`:"
   ]
  },
  {
   "cell_type": "code",
   "execution_count": 7,
   "id": "5065e667-493d-44cc-a9d0-23cb089552b4",
   "metadata": {},
   "outputs": [
    {
     "data": {
      "text/html": [
       "<div>\n",
       "<style scoped>\n",
       "    .dataframe tbody tr th:only-of-type {\n",
       "        vertical-align: middle;\n",
       "    }\n",
       "\n",
       "    .dataframe tbody tr th {\n",
       "        vertical-align: top;\n",
       "    }\n",
       "\n",
       "    .dataframe thead th {\n",
       "        text-align: right;\n",
       "    }\n",
       "</style>\n",
       "<table border=\"1\" class=\"dataframe\">\n",
       "  <thead>\n",
       "    <tr style=\"text-align: right;\">\n",
       "      <th></th>\n",
       "      <th>NUMEROPUERTA</th>\n",
       "      <th>CODIGODISTRITO</th>\n",
       "      <th>geometry</th>\n",
       "    </tr>\n",
       "  </thead>\n",
       "  <tbody>\n",
       "    <tr>\n",
       "      <th>0</th>\n",
       "      <td>842</td>\n",
       "      <td>150132</td>\n",
       "      <td>POINT (282306.453 8669914.377)</td>\n",
       "    </tr>\n",
       "    <tr>\n",
       "      <th>1</th>\n",
       "      <td>811A</td>\n",
       "      <td>150132</td>\n",
       "      <td>POINT (282245.352 8669863.459)</td>\n",
       "    </tr>\n",
       "    <tr>\n",
       "      <th>2</th>\n",
       "      <td>930</td>\n",
       "      <td>150132</td>\n",
       "      <td>POINT (282501.278 8670013.832)</td>\n",
       "    </tr>\n",
       "    <tr>\n",
       "      <th>3</th>\n",
       "      <td>943</td>\n",
       "      <td>150132</td>\n",
       "      <td>POINT (282505.574 8669977.579)</td>\n",
       "    </tr>\n",
       "    <tr>\n",
       "      <th>4</th>\n",
       "      <td>971</td>\n",
       "      <td>150132</td>\n",
       "      <td>POINT (282560.12 8669989.886)</td>\n",
       "    </tr>\n",
       "    <tr>\n",
       "      <th>...</th>\n",
       "      <td>...</td>\n",
       "      <td>...</td>\n",
       "      <td>...</td>\n",
       "    </tr>\n",
       "    <tr>\n",
       "      <th>2323691</th>\n",
       "      <td>S/N</td>\n",
       "      <td>150112</td>\n",
       "      <td>POINT (278698.773 8676598.118)</td>\n",
       "    </tr>\n",
       "    <tr>\n",
       "      <th>2323692</th>\n",
       "      <td>S/N</td>\n",
       "      <td>150112</td>\n",
       "      <td>POINT (278682.456 8676625.591)</td>\n",
       "    </tr>\n",
       "    <tr>\n",
       "      <th>2323693</th>\n",
       "      <td>S/N</td>\n",
       "      <td>150112</td>\n",
       "      <td>POINT (278677.124 8676632.768)</td>\n",
       "    </tr>\n",
       "    <tr>\n",
       "      <th>2323694</th>\n",
       "      <td>S/N</td>\n",
       "      <td>150112</td>\n",
       "      <td>POINT (278670.622 8676643.207)</td>\n",
       "    </tr>\n",
       "    <tr>\n",
       "      <th>2323695</th>\n",
       "      <td>S/N</td>\n",
       "      <td>150112</td>\n",
       "      <td>POINT (278666.108 8676648.642)</td>\n",
       "    </tr>\n",
       "  </tbody>\n",
       "</table>\n",
       "<p>2323696 rows × 3 columns</p>\n",
       "</div>"
      ],
      "text/plain": [
       "        NUMEROPUERTA CODIGODISTRITO                        geometry\n",
       "0                842         150132  POINT (282306.453 8669914.377)\n",
       "1               811A         150132  POINT (282245.352 8669863.459)\n",
       "2                930         150132  POINT (282501.278 8670013.832)\n",
       "3                943         150132  POINT (282505.574 8669977.579)\n",
       "4                971         150132   POINT (282560.12 8669989.886)\n",
       "...              ...            ...                             ...\n",
       "2323691          S/N         150112  POINT (278698.773 8676598.118)\n",
       "2323692          S/N         150112  POINT (278682.456 8676625.591)\n",
       "2323693          S/N         150112  POINT (278677.124 8676632.768)\n",
       "2323694          S/N         150112  POINT (278670.622 8676643.207)\n",
       "2323695          S/N         150112  POINT (278666.108 8676648.642)\n",
       "\n",
       "[2323696 rows x 3 columns]"
      ]
     },
     "execution_count": 7,
     "metadata": {},
     "output_type": "execute_result"
    }
   ],
   "source": [
    "# Selección de columnas en base a una lista de etiquetas\n",
    "puertas[['NUMEROPUERTA', 'CODIGODISTRITO', 'geometry']]"
   ]
  },
  {
   "cell_type": "markdown",
   "id": "dedc96b6-8a26-4d0b-a2e4-b747d5eca41f",
   "metadata": {
    "tags": []
   },
   "source": [
    "### **1.2. Selección con máscaras boleanas**\n",
    "\n",
    "La selección con máscaras booleanas permite filtrar datos mediante **expresiones lógicas**. Se genera una **Serie boleana** donde **`True`** indica las **filas a conservar** y **`False`** las que **se descartan**.\n",
    "\n",
    "```python\n",
    "df[<expresiones_lógicas>]\n",
    "```\n",
    "\n",
    "Por ejemplo, para seleccionar las filas donde la edad sea mayor a 30, usamos `df[df['edad'] > 30]`, donde la expresión `df['edad'] > 30` genera una máscara booleana que mantiene únicamente las filas que cumplen esta condición.\n",
    "\n",
    "Ahora, seleccionemos las puertas cuyo código de distrito sea igual a \"150117\":"
   ]
  },
  {
   "cell_type": "code",
   "execution_count": 8,
   "id": "bdef3943-18c0-44aa-a9e9-fa16a605a574",
   "metadata": {},
   "outputs": [
    {
     "name": "stdout",
     "output_type": "stream",
     "text": [
      "Fila y columnas: (54401, 9)\n"
     ]
    },
    {
     "data": {
      "text/html": [
       "<div>\n",
       "<style scoped>\n",
       "    .dataframe tbody tr th:only-of-type {\n",
       "        vertical-align: middle;\n",
       "    }\n",
       "\n",
       "    .dataframe tbody tr th {\n",
       "        vertical-align: top;\n",
       "    }\n",
       "\n",
       "    .dataframe thead th {\n",
       "        text-align: right;\n",
       "    }\n",
       "</style>\n",
       "<table border=\"1\" class=\"dataframe\">\n",
       "  <thead>\n",
       "    <tr style=\"text-align: right;\">\n",
       "      <th></th>\n",
       "      <th>OBJECTID</th>\n",
       "      <th>CODIGOPREDIO</th>\n",
       "      <th>NUMEROLOTE</th>\n",
       "      <th>NUMEROPUERTA</th>\n",
       "      <th>CODIGODISTRITO</th>\n",
       "      <th>CODIGOSEGMENTOVIA</th>\n",
       "      <th>CODIGOMANZANA</th>\n",
       "      <th>CODIGOPUERTA</th>\n",
       "      <th>geometry</th>\n",
       "    </tr>\n",
       "  </thead>\n",
       "  <tbody>\n",
       "    <tr>\n",
       "      <th>408797</th>\n",
       "      <td>594697</td>\n",
       "      <td>L18</td>\n",
       "      <td>0</td>\n",
       "      <td>S/N</td>\n",
       "      <td>150117</td>\n",
       "      <td>239440</td>\n",
       "      <td>44601.0</td>\n",
       "      <td>837603</td>\n",
       "      <td>POINT (273398.254 8671700.521)</td>\n",
       "    </tr>\n",
       "    <tr>\n",
       "      <th>408798</th>\n",
       "      <td>594698</td>\n",
       "      <td>L01</td>\n",
       "      <td>6</td>\n",
       "      <td>S/N</td>\n",
       "      <td>150117</td>\n",
       "      <td>239995</td>\n",
       "      <td>44593.0</td>\n",
       "      <td>837604</td>\n",
       "      <td>POINT (273837.064 8671477.364)</td>\n",
       "    </tr>\n",
       "  </tbody>\n",
       "</table>\n",
       "</div>"
      ],
      "text/plain": [
       "        OBJECTID CODIGOPREDIO NUMEROLOTE NUMEROPUERTA CODIGODISTRITO  \\\n",
       "408797    594697          L18          0          S/N         150117   \n",
       "408798    594698          L01          6          S/N         150117   \n",
       "\n",
       "       CODIGOSEGMENTOVIA  CODIGOMANZANA  CODIGOPUERTA  \\\n",
       "408797            239440        44601.0        837603   \n",
       "408798            239995        44593.0        837604   \n",
       "\n",
       "                              geometry  \n",
       "408797  POINT (273398.254 8671700.521)  \n",
       "408798  POINT (273837.064 8671477.364)  "
      ]
     },
     "execution_count": 8,
     "metadata": {},
     "output_type": "execute_result"
    }
   ],
   "source": [
    "# Máscara donde el codigo de distrito es \"150117\"\n",
    "mascara = puertas['CODIGODISTRITO']=='150117'\n",
    "\n",
    "# Extración de los registros donde CODIGODISTRITO es '150117'\n",
    "puertas_olivos = puertas[mascara]\n",
    "\n",
    "# Imprimir la cantidad de filas y columnas extraidas\n",
    "print(f'Fila y columnas: {puertas_olivos.shape}')\n",
    "\n",
    "# Visualizar las dos primeras filas:\n",
    "puertas_olivos.head(2)"
   ]
  },
  {
   "cell_type": "markdown",
   "id": "79d3fb9f-3c87-4d51-9093-93dcb01703f9",
   "metadata": {},
   "source": [
    "Podemos combinar varias **expresiones lógicas** utilizando `&` (**AND**), `|` (**OR**) y `~` (**NOT**). Es importante usar paréntesis para definir la prioridad de evaluación. También es recomendable almacenar cada condición en una variable:"
   ]
  },
  {
   "cell_type": "code",
   "execution_count": 9,
   "id": "3c3c58cd-cc81-42b2-9f3d-0aafbc791e57",
   "metadata": {},
   "outputs": [
    {
     "name": "stdout",
     "output_type": "stream",
     "text": [
      "Fila y columnas: (19965, 9)\n"
     ]
    },
    {
     "data": {
      "text/html": [
       "<div>\n",
       "<style scoped>\n",
       "    .dataframe tbody tr th:only-of-type {\n",
       "        vertical-align: middle;\n",
       "    }\n",
       "\n",
       "    .dataframe tbody tr th {\n",
       "        vertical-align: top;\n",
       "    }\n",
       "\n",
       "    .dataframe thead th {\n",
       "        text-align: right;\n",
       "    }\n",
       "</style>\n",
       "<table border=\"1\" class=\"dataframe\">\n",
       "  <thead>\n",
       "    <tr style=\"text-align: right;\">\n",
       "      <th></th>\n",
       "      <th>OBJECTID</th>\n",
       "      <th>CODIGOPREDIO</th>\n",
       "      <th>NUMEROLOTE</th>\n",
       "      <th>NUMEROPUERTA</th>\n",
       "      <th>CODIGODISTRITO</th>\n",
       "      <th>CODIGOSEGMENTOVIA</th>\n",
       "      <th>CODIGOMANZANA</th>\n",
       "      <th>CODIGOPUERTA</th>\n",
       "      <th>geometry</th>\n",
       "    </tr>\n",
       "  </thead>\n",
       "  <tbody>\n",
       "    <tr>\n",
       "      <th>408847</th>\n",
       "      <td>594747</td>\n",
       "      <td>L13</td>\n",
       "      <td>None</td>\n",
       "      <td>319</td>\n",
       "      <td>150117</td>\n",
       "      <td>239305</td>\n",
       "      <td>44595.0</td>\n",
       "      <td>837653</td>\n",
       "      <td>POINT (273774.795 8671638.546)</td>\n",
       "    </tr>\n",
       "    <tr>\n",
       "      <th>408857</th>\n",
       "      <td>594757</td>\n",
       "      <td>L08</td>\n",
       "      <td>None</td>\n",
       "      <td>1888</td>\n",
       "      <td>150117</td>\n",
       "      <td>239193</td>\n",
       "      <td>44602.0</td>\n",
       "      <td>837663</td>\n",
       "      <td>POINT (273334.322 8671831.08)</td>\n",
       "    </tr>\n",
       "  </tbody>\n",
       "</table>\n",
       "</div>"
      ],
      "text/plain": [
       "        OBJECTID CODIGOPREDIO NUMEROLOTE NUMEROPUERTA CODIGODISTRITO  \\\n",
       "408847    594747          L13       None          319         150117   \n",
       "408857    594757          L08       None         1888         150117   \n",
       "\n",
       "       CODIGOSEGMENTOVIA  CODIGOMANZANA  CODIGOPUERTA  \\\n",
       "408847            239305        44595.0        837653   \n",
       "408857            239193        44602.0        837663   \n",
       "\n",
       "                              geometry  \n",
       "408847  POINT (273774.795 8671638.546)  \n",
       "408857   POINT (273334.322 8671831.08)  "
      ]
     },
     "execution_count": 9,
     "metadata": {},
     "output_type": "execute_result"
    }
   ],
   "source": [
    "# Mask 1: Registros cuyo CODIGODISTRITO es '150117'\n",
    "maskDist = puertas.CODIGODISTRITO=='150117'\n",
    "\n",
    "# Mask 2: Registros cuyo NUMEROPUERTA es diferente a \"S/N\"\n",
    "maskPuerta = puertas.NUMEROPUERTA != 'S/N'\n",
    "\n",
    "# Seleccionando por las condiciones:\n",
    "puertas_olivos_names = puertas[maskDist & maskPuerta]\n",
    "\n",
    "# Imprimir la cantidad de filas y columnas seleccionadas\n",
    "print(f'Fila y columnas: {puertas_olivos_names.shape}')\n",
    "\n",
    "# Visualizar las dos primeras filas:\n",
    "puertas_olivos_names.head(2)"
   ]
  },
  {
   "cell_type": "markdown",
   "id": "576e43bf-2287-4027-a64b-847141e37e2a",
   "metadata": {},
   "source": [
    "### **1.3. Integrando selección de columnas y por máscara boleana**\n",
    "\n",
    "Mediante operadores de indexación, podemos combinar la **selección de columnas** y el **filtrado con máscaras booleanas** en una sola operación."
   ]
  },
  {
   "cell_type": "code",
   "execution_count": 10,
   "id": "c506e765-8e08-4aa3-a558-a26ad17684cd",
   "metadata": {},
   "outputs": [
    {
     "name": "stdout",
     "output_type": "stream",
     "text": [
      "Fila y columnas: (19965, 3)\n"
     ]
    },
    {
     "data": {
      "text/html": [
       "<div>\n",
       "<style scoped>\n",
       "    .dataframe tbody tr th:only-of-type {\n",
       "        vertical-align: middle;\n",
       "    }\n",
       "\n",
       "    .dataframe tbody tr th {\n",
       "        vertical-align: top;\n",
       "    }\n",
       "\n",
       "    .dataframe thead th {\n",
       "        text-align: right;\n",
       "    }\n",
       "</style>\n",
       "<table border=\"1\" class=\"dataframe\">\n",
       "  <thead>\n",
       "    <tr style=\"text-align: right;\">\n",
       "      <th></th>\n",
       "      <th>NUMEROPUERTA</th>\n",
       "      <th>CODIGODISTRITO</th>\n",
       "      <th>geometry</th>\n",
       "    </tr>\n",
       "  </thead>\n",
       "  <tbody>\n",
       "    <tr>\n",
       "      <th>408847</th>\n",
       "      <td>319</td>\n",
       "      <td>150117</td>\n",
       "      <td>POINT (273774.795 8671638.546)</td>\n",
       "    </tr>\n",
       "    <tr>\n",
       "      <th>408857</th>\n",
       "      <td>1888</td>\n",
       "      <td>150117</td>\n",
       "      <td>POINT (273334.322 8671831.08)</td>\n",
       "    </tr>\n",
       "  </tbody>\n",
       "</table>\n",
       "</div>"
      ],
      "text/plain": [
       "       NUMEROPUERTA CODIGODISTRITO                        geometry\n",
       "408847          319         150117  POINT (273774.795 8671638.546)\n",
       "408857         1888         150117   POINT (273334.322 8671831.08)"
      ]
     },
     "execution_count": 10,
     "metadata": {},
     "output_type": "execute_result"
    }
   ],
   "source": [
    "# Lista de columnas a seleccionar\n",
    "cols = ['NUMEROPUERTA', 'CODIGODISTRITO', 'geometry']\n",
    "\n",
    "# Filtramos usando las variables \"maskDist\", \"maskPuerta\" y \"cols\"\n",
    "puertas_select = puertas[maskDist & maskPuerta][cols]\n",
    "\n",
    "# Imprimir la cantidad de filas y columnas filtradas\n",
    "print(f'Fila y columnas: {puertas_select.shape}')\n",
    "\n",
    "# Visualizar las dos primeras filas:\n",
    "puertas_select.head(2)"
   ]
  },
  {
   "cell_type": "markdown",
   "id": "84c650e8-f53d-45c9-a66c-5abc7628a04e",
   "metadata": {},
   "source": [
    "## **2. Selección por etiqueta `.loc`**\n",
    "\n",
    "La selección por etiqueta se realiza mediante el método _Pandas_ **[.loc](https://pandas.pydata.org/docs/reference/api/pandas.DataFrame.loc.html)**, que permite **acceder a filas y columnas** a través de sus **nombres de índice**."
   ]
  },
  {
   "cell_type": "markdown",
   "id": "f8d1e1c6-b63a-468f-89ad-f39b1662ed14",
   "metadata": {},
   "source": [
    "### **2.1. Selección de filas**\n",
    "\n",
    "Las filas se seleccionan utilizando **etiquetas de filas**, que por defecto son números enteros, a menos que se haya definido otro valor. Si no se especifica ninguna columna, se devolverán todas por defecto.\n",
    "\n",
    "#### **Selección de una Fila Específica**\n",
    "\n",
    "Para seleccionar una única fila, utilizamos:\n",
    "\n",
    "```python\n",
    "df.loc[row1]\n",
    "```\n",
    "\n",
    "Esto devuelve todos los valores de la fila con la etiqueta `row1`."
   ]
  },
  {
   "cell_type": "code",
   "execution_count": 11,
   "id": "cb7adab1-704a-4368-a4f7-1b1b6f2e00ee",
   "metadata": {},
   "outputs": [
    {
     "data": {
      "text/plain": [
       "OBJECTID                                                 66\n",
       "CODIGOPREDIO                                            L17\n",
       "NUMEROLOTE                                             None\n",
       "NUMEROPUERTA                                            528\n",
       "CODIGODISTRITO                                       150132\n",
       "CODIGOSEGMENTOVIA                                    159355\n",
       "CODIGOMANZANA                                       31811.0\n",
       "CODIGOPUERTA                                           3692\n",
       "geometry             POINT (282541.47200000007 8670064.495)\n",
       "Name: 5, dtype: object"
      ]
     },
     "execution_count": 11,
     "metadata": {},
     "output_type": "execute_result"
    }
   ],
   "source": [
    "# Seleccionando la etiqueta de fila 5:\n",
    "puertas.loc[5]"
   ]
  },
  {
   "cell_type": "markdown",
   "id": "694aec23-3fe5-4060-aa8a-959908973b81",
   "metadata": {},
   "source": [
    "#### **Selección de múltiples filas**\n",
    "\n",
    "Para seleccionar múltiples filas, utilizamos:\n",
    "\n",
    "```python\n",
    "df.loc[[row1, row2]]\n",
    "```\n",
    "\n",
    "Retorna un **subconjunto de datos** que incluye las filas con las etiquetas `row1` y `row2`."
   ]
  },
  {
   "cell_type": "code",
   "execution_count": 12,
   "id": "9d34c420-6d79-4d97-8c06-c61dad740504",
   "metadata": {},
   "outputs": [
    {
     "data": {
      "text/html": [
       "<div>\n",
       "<style scoped>\n",
       "    .dataframe tbody tr th:only-of-type {\n",
       "        vertical-align: middle;\n",
       "    }\n",
       "\n",
       "    .dataframe tbody tr th {\n",
       "        vertical-align: top;\n",
       "    }\n",
       "\n",
       "    .dataframe thead th {\n",
       "        text-align: right;\n",
       "    }\n",
       "</style>\n",
       "<table border=\"1\" class=\"dataframe\">\n",
       "  <thead>\n",
       "    <tr style=\"text-align: right;\">\n",
       "      <th></th>\n",
       "      <th>OBJECTID</th>\n",
       "      <th>CODIGOPREDIO</th>\n",
       "      <th>NUMEROLOTE</th>\n",
       "      <th>NUMEROPUERTA</th>\n",
       "      <th>CODIGODISTRITO</th>\n",
       "      <th>CODIGOSEGMENTOVIA</th>\n",
       "      <th>CODIGOMANZANA</th>\n",
       "      <th>CODIGOPUERTA</th>\n",
       "      <th>geometry</th>\n",
       "    </tr>\n",
       "  </thead>\n",
       "  <tbody>\n",
       "    <tr>\n",
       "      <th>5</th>\n",
       "      <td>66</td>\n",
       "      <td>L17</td>\n",
       "      <td>None</td>\n",
       "      <td>528</td>\n",
       "      <td>150132</td>\n",
       "      <td>159355</td>\n",
       "      <td>31811.0</td>\n",
       "      <td>3692</td>\n",
       "      <td>POINT (282541.472 8670064.495)</td>\n",
       "    </tr>\n",
       "    <tr>\n",
       "      <th>10</th>\n",
       "      <td>71</td>\n",
       "      <td>L15</td>\n",
       "      <td>None</td>\n",
       "      <td>819A</td>\n",
       "      <td>150132</td>\n",
       "      <td>152388</td>\n",
       "      <td>31852.0</td>\n",
       "      <td>3697</td>\n",
       "      <td>POINT (282279.506 8669810.186)</td>\n",
       "    </tr>\n",
       "    <tr>\n",
       "      <th>37</th>\n",
       "      <td>98</td>\n",
       "      <td>L10</td>\n",
       "      <td>None</td>\n",
       "      <td>1029B</td>\n",
       "      <td>150132</td>\n",
       "      <td>156930</td>\n",
       "      <td>31818.0</td>\n",
       "      <td>3724</td>\n",
       "      <td>POINT (282732.879 8669959.43)</td>\n",
       "    </tr>\n",
       "  </tbody>\n",
       "</table>\n",
       "</div>"
      ],
      "text/plain": [
       "    OBJECTID CODIGOPREDIO NUMEROLOTE NUMEROPUERTA CODIGODISTRITO  \\\n",
       "5         66          L17       None          528         150132   \n",
       "10        71          L15       None         819A         150132   \n",
       "37        98          L10       None        1029B         150132   \n",
       "\n",
       "   CODIGOSEGMENTOVIA  CODIGOMANZANA  CODIGOPUERTA  \\\n",
       "5             159355        31811.0          3692   \n",
       "10            152388        31852.0          3697   \n",
       "37            156930        31818.0          3724   \n",
       "\n",
       "                          geometry  \n",
       "5   POINT (282541.472 8670064.495)  \n",
       "10  POINT (282279.506 8669810.186)  \n",
       "37   POINT (282732.879 8669959.43)  "
      ]
     },
     "execution_count": 12,
     "metadata": {},
     "output_type": "execute_result"
    }
   ],
   "source": [
    "# Seleccionando un lista de etiquetas de filas\n",
    "puertas.loc[[5,10,37]]"
   ]
  },
  {
   "cell_type": "markdown",
   "id": "20398e86-b772-4949-ab95-c644b0dc5850",
   "metadata": {},
   "source": [
    "#### **Selección mediante `slicing`**\n",
    "\n",
    "También podemos utilizar un **rango de etiquetas** de fila con `slicing`:\n",
    "\n",
    "```python\n",
    "df.loc[rowA:rowN]\n",
    "```\n",
    "\n",
    "Esto retorna un **subconjunto de datos** que incluye todas las filas desde la etiqueta `rowA` hasta `rowN`, incluyéndolas."
   ]
  },
  {
   "cell_type": "code",
   "execution_count": 13,
   "id": "38c7bc62-e95d-4813-b795-d2a19322ad97",
   "metadata": {},
   "outputs": [
    {
     "data": {
      "text/html": [
       "<div>\n",
       "<style scoped>\n",
       "    .dataframe tbody tr th:only-of-type {\n",
       "        vertical-align: middle;\n",
       "    }\n",
       "\n",
       "    .dataframe tbody tr th {\n",
       "        vertical-align: top;\n",
       "    }\n",
       "\n",
       "    .dataframe thead th {\n",
       "        text-align: right;\n",
       "    }\n",
       "</style>\n",
       "<table border=\"1\" class=\"dataframe\">\n",
       "  <thead>\n",
       "    <tr style=\"text-align: right;\">\n",
       "      <th></th>\n",
       "      <th>OBJECTID</th>\n",
       "      <th>CODIGOPREDIO</th>\n",
       "      <th>NUMEROLOTE</th>\n",
       "      <th>NUMEROPUERTA</th>\n",
       "      <th>CODIGODISTRITO</th>\n",
       "      <th>CODIGOSEGMENTOVIA</th>\n",
       "      <th>CODIGOMANZANA</th>\n",
       "      <th>CODIGOPUERTA</th>\n",
       "      <th>geometry</th>\n",
       "    </tr>\n",
       "  </thead>\n",
       "  <tbody>\n",
       "    <tr>\n",
       "      <th>40</th>\n",
       "      <td>101</td>\n",
       "      <td>L10</td>\n",
       "      <td>None</td>\n",
       "      <td>547</td>\n",
       "      <td>150132</td>\n",
       "      <td>162589</td>\n",
       "      <td>31625.0</td>\n",
       "      <td>3727</td>\n",
       "      <td>POINT (281663.218 8670001.857)</td>\n",
       "    </tr>\n",
       "    <tr>\n",
       "      <th>41</th>\n",
       "      <td>102</td>\n",
       "      <td>L17</td>\n",
       "      <td>None</td>\n",
       "      <td>100</td>\n",
       "      <td>150132</td>\n",
       "      <td>155519</td>\n",
       "      <td>31625.0</td>\n",
       "      <td>3728</td>\n",
       "      <td>POINT (281605.177 8669902.147)</td>\n",
       "    </tr>\n",
       "    <tr>\n",
       "      <th>42</th>\n",
       "      <td>103</td>\n",
       "      <td>L47</td>\n",
       "      <td>None</td>\n",
       "      <td>S/N</td>\n",
       "      <td>150132</td>\n",
       "      <td>-1</td>\n",
       "      <td>31617.0</td>\n",
       "      <td>3729</td>\n",
       "      <td>POINT (281436.459 8669876.181)</td>\n",
       "    </tr>\n",
       "  </tbody>\n",
       "</table>\n",
       "</div>"
      ],
      "text/plain": [
       "    OBJECTID CODIGOPREDIO NUMEROLOTE NUMEROPUERTA CODIGODISTRITO  \\\n",
       "40       101          L10       None          547         150132   \n",
       "41       102          L17       None          100         150132   \n",
       "42       103          L47       None          S/N         150132   \n",
       "\n",
       "   CODIGOSEGMENTOVIA  CODIGOMANZANA  CODIGOPUERTA  \\\n",
       "40            162589        31625.0          3727   \n",
       "41            155519        31625.0          3728   \n",
       "42                -1        31617.0          3729   \n",
       "\n",
       "                          geometry  \n",
       "40  POINT (281663.218 8670001.857)  \n",
       "41  POINT (281605.177 8669902.147)  \n",
       "42  POINT (281436.459 8669876.181)  "
      ]
     },
     "execution_count": 13,
     "metadata": {},
     "output_type": "execute_result"
    }
   ],
   "source": [
    "# Seleccionando etiquetas de filas con un slice \n",
    "puertas.loc[40:42]"
   ]
  },
  {
   "cell_type": "markdown",
   "id": "61407b0c-398c-4b6d-b344-5ec353f56b0f",
   "metadata": {},
   "source": [
    "### **2.2. Selección de columnas**\n",
    "\n",
    "Las columnas se seleccionan mediante su **etiqueta de índice**, que corresponde a su **nombre**. Sin embargo, también es **necesario especificar las filas**. Para seleccionar **todas las filas**, podemos utilizar el operador `:`.\n",
    "\n",
    "#### **Selección de una columna específica**\n",
    "\n",
    "Para seleccionar una única columna, utilizamos:\n",
    "\n",
    "```python\n",
    "df.loc[:, column1]\n",
    "```\n",
    "\n",
    "Es necesario especificar las filas, pero podemos usar el operador `:` para seleccionar todas. Esto devuelve la columna `column1` con todos sus valores."
   ]
  },
  {
   "cell_type": "code",
   "execution_count": 14,
   "id": "de455639-c0cb-4f23-bd08-6fe9407400eb",
   "metadata": {},
   "outputs": [
    {
     "data": {
      "text/plain": [
       "0           842\n",
       "1          811A\n",
       "2           930\n",
       "3           943\n",
       "4           971\n",
       "           ... \n",
       "2323691     S/N\n",
       "2323692     S/N\n",
       "2323693     S/N\n",
       "2323694     S/N\n",
       "2323695     S/N\n",
       "Name: NUMEROPUERTA, Length: 2323696, dtype: object"
      ]
     },
     "execution_count": 14,
     "metadata": {},
     "output_type": "execute_result"
    }
   ],
   "source": [
    "# Selección de la columna \"NUMEROPUERTA\" y todas sus filas\n",
    "puertas.loc[:,'NUMEROPUERTA']"
   ]
  },
  {
   "cell_type": "markdown",
   "id": "02bdf5a5-28e9-4331-9954-e78324a2ace7",
   "metadata": {},
   "source": [
    "#### **Selección de múltiples columnas**\n",
    "\n",
    "Para seleccionar múltiples columnas, pasamos una **lista con sus etiquetas** de la siguiente manera:\n",
    "\n",
    "```python\n",
    "df.loc[:, [column1, column2]]\n",
    "```\n",
    "\n",
    "Esto devuelve un subconjunto de datos con las columnas `column1` y `column2`."
   ]
  },
  {
   "cell_type": "code",
   "execution_count": 15,
   "id": "5918f9b3-297a-442f-835b-5219c05c8b62",
   "metadata": {},
   "outputs": [
    {
     "data": {
      "text/html": [
       "<div>\n",
       "<style scoped>\n",
       "    .dataframe tbody tr th:only-of-type {\n",
       "        vertical-align: middle;\n",
       "    }\n",
       "\n",
       "    .dataframe tbody tr th {\n",
       "        vertical-align: top;\n",
       "    }\n",
       "\n",
       "    .dataframe thead th {\n",
       "        text-align: right;\n",
       "    }\n",
       "</style>\n",
       "<table border=\"1\" class=\"dataframe\">\n",
       "  <thead>\n",
       "    <tr style=\"text-align: right;\">\n",
       "      <th></th>\n",
       "      <th>NUMEROPUERTA</th>\n",
       "      <th>CODIGODISTRITO</th>\n",
       "      <th>geometry</th>\n",
       "    </tr>\n",
       "  </thead>\n",
       "  <tbody>\n",
       "    <tr>\n",
       "      <th>0</th>\n",
       "      <td>842</td>\n",
       "      <td>150132</td>\n",
       "      <td>POINT (282306.453 8669914.377)</td>\n",
       "    </tr>\n",
       "    <tr>\n",
       "      <th>1</th>\n",
       "      <td>811A</td>\n",
       "      <td>150132</td>\n",
       "      <td>POINT (282245.352 8669863.459)</td>\n",
       "    </tr>\n",
       "    <tr>\n",
       "      <th>2</th>\n",
       "      <td>930</td>\n",
       "      <td>150132</td>\n",
       "      <td>POINT (282501.278 8670013.832)</td>\n",
       "    </tr>\n",
       "    <tr>\n",
       "      <th>3</th>\n",
       "      <td>943</td>\n",
       "      <td>150132</td>\n",
       "      <td>POINT (282505.574 8669977.579)</td>\n",
       "    </tr>\n",
       "    <tr>\n",
       "      <th>4</th>\n",
       "      <td>971</td>\n",
       "      <td>150132</td>\n",
       "      <td>POINT (282560.12 8669989.886)</td>\n",
       "    </tr>\n",
       "    <tr>\n",
       "      <th>...</th>\n",
       "      <td>...</td>\n",
       "      <td>...</td>\n",
       "      <td>...</td>\n",
       "    </tr>\n",
       "    <tr>\n",
       "      <th>2323691</th>\n",
       "      <td>S/N</td>\n",
       "      <td>150112</td>\n",
       "      <td>POINT (278698.773 8676598.118)</td>\n",
       "    </tr>\n",
       "    <tr>\n",
       "      <th>2323692</th>\n",
       "      <td>S/N</td>\n",
       "      <td>150112</td>\n",
       "      <td>POINT (278682.456 8676625.591)</td>\n",
       "    </tr>\n",
       "    <tr>\n",
       "      <th>2323693</th>\n",
       "      <td>S/N</td>\n",
       "      <td>150112</td>\n",
       "      <td>POINT (278677.124 8676632.768)</td>\n",
       "    </tr>\n",
       "    <tr>\n",
       "      <th>2323694</th>\n",
       "      <td>S/N</td>\n",
       "      <td>150112</td>\n",
       "      <td>POINT (278670.622 8676643.207)</td>\n",
       "    </tr>\n",
       "    <tr>\n",
       "      <th>2323695</th>\n",
       "      <td>S/N</td>\n",
       "      <td>150112</td>\n",
       "      <td>POINT (278666.108 8676648.642)</td>\n",
       "    </tr>\n",
       "  </tbody>\n",
       "</table>\n",
       "<p>2323696 rows × 3 columns</p>\n",
       "</div>"
      ],
      "text/plain": [
       "        NUMEROPUERTA CODIGODISTRITO                        geometry\n",
       "0                842         150132  POINT (282306.453 8669914.377)\n",
       "1               811A         150132  POINT (282245.352 8669863.459)\n",
       "2                930         150132  POINT (282501.278 8670013.832)\n",
       "3                943         150132  POINT (282505.574 8669977.579)\n",
       "4                971         150132   POINT (282560.12 8669989.886)\n",
       "...              ...            ...                             ...\n",
       "2323691          S/N         150112  POINT (278698.773 8676598.118)\n",
       "2323692          S/N         150112  POINT (278682.456 8676625.591)\n",
       "2323693          S/N         150112  POINT (278677.124 8676632.768)\n",
       "2323694          S/N         150112  POINT (278670.622 8676643.207)\n",
       "2323695          S/N         150112  POINT (278666.108 8676648.642)\n",
       "\n",
       "[2323696 rows x 3 columns]"
      ]
     },
     "execution_count": 15,
     "metadata": {},
     "output_type": "execute_result"
    }
   ],
   "source": [
    "# Selección de múltiples columnas y todas su filas\n",
    "puertas.loc[:, ['NUMEROPUERTA','CODIGODISTRITO','geometry']]"
   ]
  },
  {
   "cell_type": "markdown",
   "id": "20bc50b3-eeb7-4cc4-ba90-6852e06aff5c",
   "metadata": {},
   "source": [
    "#### **Selección mediante `slicing`**\n",
    "\n",
    "También podemos emplear un **rango de etiquetas** para seleccionar columnas mediante `slicing`:\n",
    "\n",
    "```python\n",
    "df.loc[columnA:columnN]\n",
    "```\n",
    "\n",
    "Esto devuelve un **subconjunto de datos** que incluye todas las columnas desde `columnA` hasta `columnN`."
   ]
  },
  {
   "cell_type": "code",
   "execution_count": 16,
   "id": "2347a7ec-69e2-4191-8794-37457524f991",
   "metadata": {},
   "outputs": [
    {
     "data": {
      "text/html": [
       "<div>\n",
       "<style scoped>\n",
       "    .dataframe tbody tr th:only-of-type {\n",
       "        vertical-align: middle;\n",
       "    }\n",
       "\n",
       "    .dataframe tbody tr th {\n",
       "        vertical-align: top;\n",
       "    }\n",
       "\n",
       "    .dataframe thead th {\n",
       "        text-align: right;\n",
       "    }\n",
       "</style>\n",
       "<table border=\"1\" class=\"dataframe\">\n",
       "  <thead>\n",
       "    <tr style=\"text-align: right;\">\n",
       "      <th></th>\n",
       "      <th>CODIGOPREDIO</th>\n",
       "      <th>NUMEROLOTE</th>\n",
       "      <th>NUMEROPUERTA</th>\n",
       "    </tr>\n",
       "  </thead>\n",
       "  <tbody>\n",
       "    <tr>\n",
       "      <th>0</th>\n",
       "      <td>L38</td>\n",
       "      <td>None</td>\n",
       "      <td>842</td>\n",
       "    </tr>\n",
       "    <tr>\n",
       "      <th>1</th>\n",
       "      <td>L24</td>\n",
       "      <td>None</td>\n",
       "      <td>811A</td>\n",
       "    </tr>\n",
       "    <tr>\n",
       "      <th>2</th>\n",
       "      <td>L21</td>\n",
       "      <td>None</td>\n",
       "      <td>930</td>\n",
       "    </tr>\n",
       "    <tr>\n",
       "      <th>3</th>\n",
       "      <td>L13</td>\n",
       "      <td>None</td>\n",
       "      <td>943</td>\n",
       "    </tr>\n",
       "    <tr>\n",
       "      <th>4</th>\n",
       "      <td>L06</td>\n",
       "      <td>None</td>\n",
       "      <td>971</td>\n",
       "    </tr>\n",
       "    <tr>\n",
       "      <th>...</th>\n",
       "      <td>...</td>\n",
       "      <td>...</td>\n",
       "      <td>...</td>\n",
       "    </tr>\n",
       "    <tr>\n",
       "      <th>2323691</th>\n",
       "      <td>L010</td>\n",
       "      <td>1</td>\n",
       "      <td>S/N</td>\n",
       "    </tr>\n",
       "    <tr>\n",
       "      <th>2323692</th>\n",
       "      <td>L021</td>\n",
       "      <td>4</td>\n",
       "      <td>S/N</td>\n",
       "    </tr>\n",
       "    <tr>\n",
       "      <th>2323693</th>\n",
       "      <td>L040</td>\n",
       "      <td>5</td>\n",
       "      <td>S/N</td>\n",
       "    </tr>\n",
       "    <tr>\n",
       "      <th>2323694</th>\n",
       "      <td>L030</td>\n",
       "      <td>6</td>\n",
       "      <td>S/N</td>\n",
       "    </tr>\n",
       "    <tr>\n",
       "      <th>2323695</th>\n",
       "      <td>L020</td>\n",
       "      <td>7</td>\n",
       "      <td>S/N</td>\n",
       "    </tr>\n",
       "  </tbody>\n",
       "</table>\n",
       "<p>2323696 rows × 3 columns</p>\n",
       "</div>"
      ],
      "text/plain": [
       "        CODIGOPREDIO NUMEROLOTE NUMEROPUERTA\n",
       "0                L38       None          842\n",
       "1                L24       None         811A\n",
       "2                L21       None          930\n",
       "3                L13       None          943\n",
       "4                L06       None          971\n",
       "...              ...        ...          ...\n",
       "2323691         L010          1          S/N\n",
       "2323692         L021          4          S/N\n",
       "2323693         L040          5          S/N\n",
       "2323694         L030          6          S/N\n",
       "2323695         L020          7          S/N\n",
       "\n",
       "[2323696 rows x 3 columns]"
      ]
     },
     "execution_count": 16,
     "metadata": {},
     "output_type": "execute_result"
    }
   ],
   "source": [
    "puertas.loc[:, 'CODIGOPREDIO':'NUMEROPUERTA']"
   ]
  },
  {
   "cell_type": "markdown",
   "id": "fe29b69a-67aa-4fed-a92a-13db4d8af963",
   "metadata": {},
   "source": [
    "### **2.3. Selección de filas y columnas**\n",
    "\n",
    "Una de las principales ventajas de **`loc`** es su capacidad para **seleccionar filas y columnas** simultáneamente de manera intuitiva, utilizando **etiquetas en ambas dimensiones**.\n",
    "\n",
    "#### **Selección de una fila y una columna**\n",
    "\n",
    "Para seleccionar un único valor, especificamos la **etiqueta** de la **fila** y la de la **columna**:\n",
    "\n",
    "```python\n",
    "df.loc[row1, column1]\n",
    "```\n",
    "\n",
    "Esto devuelve el valor específico ubicado en la **intersección** de la fila `row1` y la columna `column1`."
   ]
  },
  {
   "cell_type": "code",
   "execution_count": 17,
   "id": "8b23b78f-d74e-48b5-8eee-f0cd047ed2bb",
   "metadata": {},
   "outputs": [
    {
     "data": {
      "text/plain": [
       "'528'"
      ]
     },
     "execution_count": 17,
     "metadata": {},
     "output_type": "execute_result"
    }
   ],
   "source": [
    "# Seleccionando el valor almacenado en la fila 5\n",
    "# de la columna \"NUMEROPUERTA\"\n",
    "puertas.loc[5, 'NUMEROPUERTA']"
   ]
  },
  {
   "cell_type": "markdown",
   "id": "eebb07e0-2fa8-45bd-97e0-805d4e860a91",
   "metadata": {},
   "source": [
    "#### **Selección de mútiples filas y columnas**\n",
    "\n",
    "Para seleccionar múltiples filas y columnas, debemos proporcionar una **lista con sus etiquetas de índice** en ambos ejes:\n",
    "\n",
    "```python\n",
    "df.loc[[row1, row2], [column1, column2]]\n",
    "```\n",
    "\n",
    "Esto devuelve un subconjunto de datos que incluye únicamente las **filas** `row1` y `row2`, junto con las **columnas** `column1` y `column2`."
   ]
  },
  {
   "cell_type": "code",
   "execution_count": 18,
   "id": "823ebc3f-f0a0-4369-a594-2503bc6c153f",
   "metadata": {},
   "outputs": [
    {
     "data": {
      "text/html": [
       "<div>\n",
       "<style scoped>\n",
       "    .dataframe tbody tr th:only-of-type {\n",
       "        vertical-align: middle;\n",
       "    }\n",
       "\n",
       "    .dataframe tbody tr th {\n",
       "        vertical-align: top;\n",
       "    }\n",
       "\n",
       "    .dataframe thead th {\n",
       "        text-align: right;\n",
       "    }\n",
       "</style>\n",
       "<table border=\"1\" class=\"dataframe\">\n",
       "  <thead>\n",
       "    <tr style=\"text-align: right;\">\n",
       "      <th></th>\n",
       "      <th>CODIGOPREDIO</th>\n",
       "      <th>NUMEROPUERTA</th>\n",
       "    </tr>\n",
       "  </thead>\n",
       "  <tbody>\n",
       "    <tr>\n",
       "      <th>5</th>\n",
       "      <td>L17</td>\n",
       "      <td>528</td>\n",
       "    </tr>\n",
       "    <tr>\n",
       "      <th>6</th>\n",
       "      <td>L11</td>\n",
       "      <td>529</td>\n",
       "    </tr>\n",
       "    <tr>\n",
       "      <th>7</th>\n",
       "      <td>L10</td>\n",
       "      <td>535</td>\n",
       "    </tr>\n",
       "    <tr>\n",
       "      <th>8</th>\n",
       "      <td>L01</td>\n",
       "      <td>273</td>\n",
       "    </tr>\n",
       "  </tbody>\n",
       "</table>\n",
       "</div>"
      ],
      "text/plain": [
       "  CODIGOPREDIO NUMEROPUERTA\n",
       "5          L17          528\n",
       "6          L11          529\n",
       "7          L10          535\n",
       "8          L01          273"
      ]
     },
     "execution_count": 18,
     "metadata": {},
     "output_type": "execute_result"
    }
   ],
   "source": [
    "puertas.loc[[5,6,7,8], ['CODIGOPREDIO','NUMEROPUERTA']]"
   ]
  },
  {
   "cell_type": "markdown",
   "id": "bd9f8d4d-b680-4d16-bf23-98ab5742520a",
   "metadata": {},
   "source": [
    "#### **Selección mediante `slicing`**\n",
    "\n",
    "También podemos emplear un **rango de etiquetas** para seleccionar **filas** y **columnas** mediante `slicing`:\n",
    "\n",
    "```python\n",
    "df.loc[rowA:rowN, columnA:columnN]\n",
    "```\n",
    "\n",
    "Esto devuelve un **subconjunto de datos** que abarca las **filas** desde `rowA` hasta `rowN` y las **columnas** desde `columnA` hasta `columnN`, incluyéndolas."
   ]
  },
  {
   "cell_type": "code",
   "execution_count": 19,
   "id": "af96daf4-4f2e-4bc5-94a9-900aab11a86d",
   "metadata": {},
   "outputs": [
    {
     "data": {
      "text/html": [
       "<div>\n",
       "<style scoped>\n",
       "    .dataframe tbody tr th:only-of-type {\n",
       "        vertical-align: middle;\n",
       "    }\n",
       "\n",
       "    .dataframe tbody tr th {\n",
       "        vertical-align: top;\n",
       "    }\n",
       "\n",
       "    .dataframe thead th {\n",
       "        text-align: right;\n",
       "    }\n",
       "</style>\n",
       "<table border=\"1\" class=\"dataframe\">\n",
       "  <thead>\n",
       "    <tr style=\"text-align: right;\">\n",
       "      <th></th>\n",
       "      <th>CODIGOPREDIO</th>\n",
       "      <th>NUMEROLOTE</th>\n",
       "      <th>NUMEROPUERTA</th>\n",
       "    </tr>\n",
       "  </thead>\n",
       "  <tbody>\n",
       "    <tr>\n",
       "      <th>5</th>\n",
       "      <td>L17</td>\n",
       "      <td>None</td>\n",
       "      <td>528</td>\n",
       "    </tr>\n",
       "    <tr>\n",
       "      <th>6</th>\n",
       "      <td>L11</td>\n",
       "      <td>None</td>\n",
       "      <td>529</td>\n",
       "    </tr>\n",
       "    <tr>\n",
       "      <th>7</th>\n",
       "      <td>L10</td>\n",
       "      <td>None</td>\n",
       "      <td>535</td>\n",
       "    </tr>\n",
       "    <tr>\n",
       "      <th>8</th>\n",
       "      <td>L01</td>\n",
       "      <td>None</td>\n",
       "      <td>273</td>\n",
       "    </tr>\n",
       "  </tbody>\n",
       "</table>\n",
       "</div>"
      ],
      "text/plain": [
       "  CODIGOPREDIO NUMEROLOTE NUMEROPUERTA\n",
       "5          L17       None          528\n",
       "6          L11       None          529\n",
       "7          L10       None          535\n",
       "8          L01       None          273"
      ]
     },
     "execution_count": 19,
     "metadata": {},
     "output_type": "execute_result"
    }
   ],
   "source": [
    "puertas.loc[5:8, 'CODIGOPREDIO':'NUMEROPUERTA']"
   ]
  },
  {
   "cell_type": "markdown",
   "id": "9a0acda8-ea50-47e5-bb5f-424e46d6a8d6",
   "metadata": {},
   "source": [
    "### **2.4. Selección con máscaras boleanas**\n",
    "\n",
    "El método  **`loc`** permite seleccionar datos utilizando máscaras booleanas, generadas a partir de **expresiones lógicas**. Estas devuelven una **Serie boleana** en la que `True` indica las **filas a conservar** y `False`, las **filas a descartar**.\n",
    "\n",
    "```python\n",
    "df.loc[<expresiones_lógicas>]\n",
    "```\n",
    "\n",
    "A continuación, seleccionaremos todas las puertas sin número asignado y mostraremos únicamente las columnas `CODIGOPREDIO` y `NUMEROPUERTA`."
   ]
  },
  {
   "cell_type": "code",
   "execution_count": 20,
   "id": "185d8bcb-5ad0-4b96-bae4-ea697dc5b846",
   "metadata": {},
   "outputs": [
    {
     "data": {
      "text/html": [
       "<div>\n",
       "<style scoped>\n",
       "    .dataframe tbody tr th:only-of-type {\n",
       "        vertical-align: middle;\n",
       "    }\n",
       "\n",
       "    .dataframe tbody tr th {\n",
       "        vertical-align: top;\n",
       "    }\n",
       "\n",
       "    .dataframe thead th {\n",
       "        text-align: right;\n",
       "    }\n",
       "</style>\n",
       "<table border=\"1\" class=\"dataframe\">\n",
       "  <thead>\n",
       "    <tr style=\"text-align: right;\">\n",
       "      <th></th>\n",
       "      <th>CODIGOPREDIO</th>\n",
       "      <th>NUMEROPUERTA</th>\n",
       "    </tr>\n",
       "  </thead>\n",
       "  <tbody>\n",
       "    <tr>\n",
       "      <th>9</th>\n",
       "      <td>L16</td>\n",
       "      <td>S/N</td>\n",
       "    </tr>\n",
       "    <tr>\n",
       "      <th>12</th>\n",
       "      <td>L44</td>\n",
       "      <td>S/N</td>\n",
       "    </tr>\n",
       "    <tr>\n",
       "      <th>14</th>\n",
       "      <td>L19</td>\n",
       "      <td>S/N</td>\n",
       "    </tr>\n",
       "    <tr>\n",
       "      <th>16</th>\n",
       "      <td>L40</td>\n",
       "      <td>S/N</td>\n",
       "    </tr>\n",
       "    <tr>\n",
       "      <th>17</th>\n",
       "      <td>L23</td>\n",
       "      <td>S/N</td>\n",
       "    </tr>\n",
       "    <tr>\n",
       "      <th>...</th>\n",
       "      <td>...</td>\n",
       "      <td>...</td>\n",
       "    </tr>\n",
       "    <tr>\n",
       "      <th>2323691</th>\n",
       "      <td>L010</td>\n",
       "      <td>S/N</td>\n",
       "    </tr>\n",
       "    <tr>\n",
       "      <th>2323692</th>\n",
       "      <td>L021</td>\n",
       "      <td>S/N</td>\n",
       "    </tr>\n",
       "    <tr>\n",
       "      <th>2323693</th>\n",
       "      <td>L040</td>\n",
       "      <td>S/N</td>\n",
       "    </tr>\n",
       "    <tr>\n",
       "      <th>2323694</th>\n",
       "      <td>L030</td>\n",
       "      <td>S/N</td>\n",
       "    </tr>\n",
       "    <tr>\n",
       "      <th>2323695</th>\n",
       "      <td>L020</td>\n",
       "      <td>S/N</td>\n",
       "    </tr>\n",
       "  </tbody>\n",
       "</table>\n",
       "<p>1518892 rows × 2 columns</p>\n",
       "</div>"
      ],
      "text/plain": [
       "        CODIGOPREDIO NUMEROPUERTA\n",
       "9                L16          S/N\n",
       "12               L44          S/N\n",
       "14               L19          S/N\n",
       "16               L40          S/N\n",
       "17               L23          S/N\n",
       "...              ...          ...\n",
       "2323691         L010          S/N\n",
       "2323692         L021          S/N\n",
       "2323693         L040          S/N\n",
       "2323694         L030          S/N\n",
       "2323695         L020          S/N\n",
       "\n",
       "[1518892 rows x 2 columns]"
      ]
     },
     "execution_count": 20,
     "metadata": {},
     "output_type": "execute_result"
    }
   ],
   "source": [
    "# Mascara de NUMEROPUERTA igual a sin nombre\n",
    "maskPuertas = puertas.NUMEROPUERTA == 'S/N'\n",
    "\n",
    "# Lista de columnas a seleccionar\n",
    "colsPuertas = ['CODIGOPREDIO','NUMEROPUERTA']\n",
    "\n",
    "# Filtro por condición y de columnas\n",
    "puertas.loc[maskPuertas, colsPuertas]"
   ]
  },
  {
   "cell_type": "markdown",
   "id": "29728c62-5084-4044-bc26-3bd7f20d3cd8",
   "metadata": {},
   "source": [
    "Podemos generar estadísticas descriptivas del campo `NUMEROPUERTA`:"
   ]
  },
  {
   "cell_type": "code",
   "execution_count": 21,
   "id": "6959ec19-c23a-451f-a9cf-bf4631a21aa6",
   "metadata": {},
   "outputs": [
    {
     "data": {
      "text/plain": [
       "count     2323696\n",
       "unique      21137\n",
       "top           S/N\n",
       "freq      1518892\n",
       "Name: NUMEROPUERTA, dtype: object"
      ]
     },
     "execution_count": 21,
     "metadata": {},
     "output_type": "execute_result"
    }
   ],
   "source": [
    "# Cálculo de estadísticas descriptivas\n",
    "puertas.NUMEROPUERTA.describe()"
   ]
  },
  {
   "cell_type": "markdown",
   "id": "a7ff95d8-d508-454c-b1e0-61740d0ba65d",
   "metadata": {},
   "source": [
    "Las estadísticas del campo `NUMEROPUERTA` indican que hay 2,323,696 valores no nulos, pero este conteo incluye el valor **\"S/N\"**, que es el más frecuente, con 1,518,892 apariciones. Sin embargo, **\"S/N\"** no representa un número de puerta válido, por lo que debería reemplazarse por `NaN` para obtener un análisis más preciso.\n",
    "\n",
    "En el siguiente apartado, aplicaremos esta limpieza asignando valores a una columna específica."
   ]
  },
  {
   "cell_type": "markdown",
   "id": "f07aa5c5-b9dc-497e-aaea-8f6b2192e067",
   "metadata": {},
   "source": [
    "### **2.5. Asignación de nuevo valores**\n",
    "\n",
    "Una de las principales ventajas de loc es su capacidad para asignar valores a una o varias columnas, siempre que las filas cumplan una determinada condición, es decir, aquellas donde las **expresiones lógicas** evalúe como `True`.\n",
    "\n",
    "```python\n",
    "df.loc[<expresiones_lógicas>, <columnas_modificar>] = <nuevo_valor>\n",
    "```\n",
    "\n",
    "En el apartado anterior, identificamos las filas donde `NUMEROPUERTA` no tiene un valor válido, lo que puede afectar los análisis de completitud. En este ejemplo, reemplazaremos esos valores por `NaN` en la columna `NUMEROPUERTA` para mejorar la calidad de los datos.\n",
    "\n",
    "```{note}\n",
    "Es importante especificar correctamente las columnas, ya que los cambios se aplicarán a todas las columnas que indiquemos. Si no se especifica la columna, la modificación afectará a todas las columnas del **GeoDataFrame**.\n",
    "```"
   ]
  },
  {
   "cell_type": "code",
   "execution_count": 22,
   "id": "0fa10c50-ea3d-466b-87e5-e8711e550a66",
   "metadata": {},
   "outputs": [],
   "source": [
    "# Reemplazando los NUMEROPUERTA sin nombre por NaN\n",
    "puertas.loc[puertas.NUMEROPUERTA == 'S/N', 'NUMEROPUERTA'] = np.nan"
   ]
  },
  {
   "cell_type": "markdown",
   "id": "745006d8-d84c-4069-a703-4ebd3e85562f",
   "metadata": {},
   "source": [
    "Volvamos a cacular las estadísticas descriptivas para el campo `NUMEROPUERTA`:"
   ]
  },
  {
   "cell_type": "code",
   "execution_count": 23,
   "id": "7f544689-6539-48b3-8b8e-5ac78b2ad9b4",
   "metadata": {},
   "outputs": [
    {
     "data": {
      "text/plain": [
       "count     804804\n",
       "unique     21136\n",
       "top          120\n",
       "freq        3108\n",
       "Name: NUMEROPUERTA, dtype: object"
      ]
     },
     "execution_count": 23,
     "metadata": {},
     "output_type": "execute_result"
    }
   ],
   "source": [
    "# Cálculo de estadísticas descriptivas\n",
    "puertas.NUMEROPUERTA.describe()"
   ]
  },
  {
   "cell_type": "markdown",
   "id": "03c43a3f-f063-45d4-9d7e-36f88e10f5bb",
   "metadata": {},
   "source": [
    "Ahora, extraeremos el subconjunto de datos que si tiene `NUMEROPUERTA`"
   ]
  },
  {
   "cell_type": "code",
   "execution_count": 24,
   "id": "36b0e4c1-3ba6-433f-a8d8-43679f9622e9",
   "metadata": {},
   "outputs": [
    {
     "data": {
      "text/plain": [
       "(804804, 9)"
      ]
     },
     "execution_count": 24,
     "metadata": {},
     "output_type": "execute_result"
    }
   ],
   "source": [
    "puertas_validas = puertas[puertas.NUMEROPUERTA.notna()]\n",
    "puertas_validas.shape"
   ]
  },
  {
   "cell_type": "markdown",
   "id": "8867224b-d906-482c-9155-d2ee6e4359e2",
   "metadata": {},
   "source": [
    "La asignación de valores también nos permite **crear nuevas columnas** para almacenar información adicional. Por ejemplo, podemos agregar la columna `PARIDAD` para indicar si el número de puerta es par o impar. Aplicaremos esta asignación sobre el nuevo `GeoDataFrame` **puertas_validas**."
   ]
  },
  {
   "cell_type": "code",
   "execution_count": 25,
   "id": "3e343c58-8c29-4066-a113-0e5269b0820e",
   "metadata": {},
   "outputs": [
    {
     "data": {
      "text/html": [
       "<div>\n",
       "<style scoped>\n",
       "    .dataframe tbody tr th:only-of-type {\n",
       "        vertical-align: middle;\n",
       "    }\n",
       "\n",
       "    .dataframe tbody tr th {\n",
       "        vertical-align: top;\n",
       "    }\n",
       "\n",
       "    .dataframe thead th {\n",
       "        text-align: right;\n",
       "    }\n",
       "</style>\n",
       "<table border=\"1\" class=\"dataframe\">\n",
       "  <thead>\n",
       "    <tr style=\"text-align: right;\">\n",
       "      <th></th>\n",
       "      <th>CODIGOPREDIO</th>\n",
       "      <th>NUMEROPUERTA</th>\n",
       "      <th>PARIDAD</th>\n",
       "    </tr>\n",
       "  </thead>\n",
       "  <tbody>\n",
       "    <tr>\n",
       "      <th>0</th>\n",
       "      <td>L38</td>\n",
       "      <td>842</td>\n",
       "      <td>Pares</td>\n",
       "    </tr>\n",
       "    <tr>\n",
       "      <th>1</th>\n",
       "      <td>L24</td>\n",
       "      <td>811A</td>\n",
       "      <td>Impares</td>\n",
       "    </tr>\n",
       "    <tr>\n",
       "      <th>2</th>\n",
       "      <td>L21</td>\n",
       "      <td>930</td>\n",
       "      <td>Pares</td>\n",
       "    </tr>\n",
       "    <tr>\n",
       "      <th>3</th>\n",
       "      <td>L13</td>\n",
       "      <td>943</td>\n",
       "      <td>Impares</td>\n",
       "    </tr>\n",
       "    <tr>\n",
       "      <th>4</th>\n",
       "      <td>L06</td>\n",
       "      <td>971</td>\n",
       "      <td>Impares</td>\n",
       "    </tr>\n",
       "    <tr>\n",
       "      <th>...</th>\n",
       "      <td>...</td>\n",
       "      <td>...</td>\n",
       "      <td>...</td>\n",
       "    </tr>\n",
       "    <tr>\n",
       "      <th>2323626</th>\n",
       "      <td>L030</td>\n",
       "      <td>254</td>\n",
       "      <td>Pares</td>\n",
       "    </tr>\n",
       "    <tr>\n",
       "      <th>2323629</th>\n",
       "      <td>L08A</td>\n",
       "      <td>117</td>\n",
       "      <td>Impares</td>\n",
       "    </tr>\n",
       "    <tr>\n",
       "      <th>2323630</th>\n",
       "      <td>L22</td>\n",
       "      <td>214B</td>\n",
       "      <td>Pares</td>\n",
       "    </tr>\n",
       "    <tr>\n",
       "      <th>2323632</th>\n",
       "      <td>L071</td>\n",
       "      <td>170</td>\n",
       "      <td>Pares</td>\n",
       "    </tr>\n",
       "    <tr>\n",
       "      <th>2323633</th>\n",
       "      <td>L060</td>\n",
       "      <td>146</td>\n",
       "      <td>Pares</td>\n",
       "    </tr>\n",
       "  </tbody>\n",
       "</table>\n",
       "<p>804804 rows × 3 columns</p>\n",
       "</div>"
      ],
      "text/plain": [
       "        CODIGOPREDIO NUMEROPUERTA  PARIDAD\n",
       "0                L38          842    Pares\n",
       "1                L24         811A  Impares\n",
       "2                L21          930    Pares\n",
       "3                L13          943  Impares\n",
       "4                L06          971  Impares\n",
       "...              ...          ...      ...\n",
       "2323626         L030          254    Pares\n",
       "2323629         L08A          117  Impares\n",
       "2323630          L22         214B    Pares\n",
       "2323632         L071          170    Pares\n",
       "2323633         L060          146    Pares\n",
       "\n",
       "[804804 rows x 3 columns]"
      ]
     },
     "execution_count": 25,
     "metadata": {},
     "output_type": "execute_result"
    }
   ],
   "source": [
    "# Condicion para evaluar puertas pares\n",
    "conPares = puertas_validas.NUMEROPUERTA.str.extract(r\"(\\d+)\")[0].str[-1]\\\n",
    "                          .isin([str(i) for i in list(range(0,9,2))])\n",
    "\n",
    "# Condicion para evaluar puertas impares\n",
    "conNones = puertas_validas.NUMEROPUERTA.str.extract(r\"(\\d+)\")[0].str[-1]\\\n",
    "                          .isin([str(i) for i in list(range(1,10,2))])\n",
    "\n",
    "# Aplicando las condiciones para calcular un nuevo campo \"Paridad\"\n",
    "puertas_validas.loc[conPares,'PARIDAD'] = 'Pares'\n",
    "puertas_validas.loc[conNones,'PARIDAD'] = 'Impares'\n",
    "\n",
    "# Visualizando:\n",
    "puertas_validas[['CODIGOPREDIO','NUMEROPUERTA','PARIDAD']]"
   ]
  },
  {
   "cell_type": "markdown",
   "id": "b14c345a-5b1e-4171-97c7-9db3a54716af",
   "metadata": {},
   "source": [
    "## **3. Selección por posición `.iloc`**\n",
    "\n",
    "La selección por posición se realiza mediante el método _Pandas_ **[.iloc](https://pandas.pydata.org/docs/reference/api/pandas.DataFrame.iloc.html)**, que permite **acceder a filas y columnas** mediante **índices enteros basados en su posición**."
   ]
  },
  {
   "cell_type": "markdown",
   "id": "7ab84017-4ca6-4bfc-b7e1-db7144cc54f8",
   "metadata": {},
   "source": [
    "### **3.1. Selección de filas**\n",
    "\n",
    "Las filas se seleccionan utilizando su **posición numérica**. Si no se especifica ninguna columna, se devolverán todas por defecto.\n",
    "\n",
    "\n",
    "#### **Selección de una Fila Específica**\n",
    "\n",
    "Para seleccionar una única fila, utilizamos:\n",
    "\n",
    "```python\n",
    "df.iloc[i]\n",
    "```\n",
    "\n",
    "Esto devuelve todos los valores de la fila en la posición **`i`**."
   ]
  },
  {
   "cell_type": "code",
   "execution_count": 26,
   "id": "29e5ad15-98fe-4ed2-a214-7fdbbc063f24",
   "metadata": {},
   "outputs": [
    {
     "data": {
      "text/plain": [
       "OBJECTID                                                 61\n",
       "CODIGOPREDIO                                            L38\n",
       "NUMEROLOTE                                             None\n",
       "NUMEROPUERTA                                            842\n",
       "CODIGODISTRITO                                       150132\n",
       "CODIGOSEGMENTOVIA                                    147461\n",
       "CODIGOMANZANA                                       31856.0\n",
       "CODIGOPUERTA                                           3687\n",
       "geometry             POINT (282306.45299999975 8669914.377)\n",
       "Name: 0, dtype: object"
      ]
     },
     "execution_count": 26,
     "metadata": {},
     "output_type": "execute_result"
    }
   ],
   "source": [
    "# Retorna la posición 0\n",
    "puertas.iloc[0]"
   ]
  },
  {
   "cell_type": "markdown",
   "id": "12a7cbc4-4af8-4d2e-8a6c-0e673e0b780b",
   "metadata": {},
   "source": [
    "#### **Selección de múltiples filas**\n",
    "\n",
    "Para seleccionar múltiples filas, utilizamos:\n",
    "\n",
    "```python\n",
    "df.iloc[[i, j, k]]\n",
    "```\n",
    "\n",
    "Esto devuelve un **subconjunto de datos** con las filas en las posiciones `i`, `j` y `k`."
   ]
  },
  {
   "cell_type": "code",
   "execution_count": 27,
   "id": "a30e8972-197b-4da7-b141-4e915e6ec324",
   "metadata": {},
   "outputs": [
    {
     "data": {
      "text/html": [
       "<div>\n",
       "<style scoped>\n",
       "    .dataframe tbody tr th:only-of-type {\n",
       "        vertical-align: middle;\n",
       "    }\n",
       "\n",
       "    .dataframe tbody tr th {\n",
       "        vertical-align: top;\n",
       "    }\n",
       "\n",
       "    .dataframe thead th {\n",
       "        text-align: right;\n",
       "    }\n",
       "</style>\n",
       "<table border=\"1\" class=\"dataframe\">\n",
       "  <thead>\n",
       "    <tr style=\"text-align: right;\">\n",
       "      <th></th>\n",
       "      <th>OBJECTID</th>\n",
       "      <th>CODIGOPREDIO</th>\n",
       "      <th>NUMEROLOTE</th>\n",
       "      <th>NUMEROPUERTA</th>\n",
       "      <th>CODIGODISTRITO</th>\n",
       "      <th>CODIGOSEGMENTOVIA</th>\n",
       "      <th>CODIGOMANZANA</th>\n",
       "      <th>CODIGOPUERTA</th>\n",
       "      <th>geometry</th>\n",
       "    </tr>\n",
       "  </thead>\n",
       "  <tbody>\n",
       "    <tr>\n",
       "      <th>0</th>\n",
       "      <td>61</td>\n",
       "      <td>L38</td>\n",
       "      <td>None</td>\n",
       "      <td>842</td>\n",
       "      <td>150132</td>\n",
       "      <td>147461</td>\n",
       "      <td>31856.0</td>\n",
       "      <td>3687</td>\n",
       "      <td>POINT (282306.453 8669914.377)</td>\n",
       "    </tr>\n",
       "    <tr>\n",
       "      <th>10</th>\n",
       "      <td>71</td>\n",
       "      <td>L15</td>\n",
       "      <td>None</td>\n",
       "      <td>819A</td>\n",
       "      <td>150132</td>\n",
       "      <td>152388</td>\n",
       "      <td>31852.0</td>\n",
       "      <td>3697</td>\n",
       "      <td>POINT (282279.506 8669810.186)</td>\n",
       "    </tr>\n",
       "    <tr>\n",
       "      <th>15</th>\n",
       "      <td>76</td>\n",
       "      <td>L20</td>\n",
       "      <td>None</td>\n",
       "      <td>180</td>\n",
       "      <td>150132</td>\n",
       "      <td>154840</td>\n",
       "      <td>31849.0</td>\n",
       "      <td>3702</td>\n",
       "      <td>POINT (282470.515 8669747.199)</td>\n",
       "    </tr>\n",
       "  </tbody>\n",
       "</table>\n",
       "</div>"
      ],
      "text/plain": [
       "    OBJECTID CODIGOPREDIO NUMEROLOTE NUMEROPUERTA CODIGODISTRITO  \\\n",
       "0         61          L38       None          842         150132   \n",
       "10        71          L15       None         819A         150132   \n",
       "15        76          L20       None          180         150132   \n",
       "\n",
       "   CODIGOSEGMENTOVIA  CODIGOMANZANA  CODIGOPUERTA  \\\n",
       "0             147461        31856.0          3687   \n",
       "10            152388        31852.0          3697   \n",
       "15            154840        31849.0          3702   \n",
       "\n",
       "                          geometry  \n",
       "0   POINT (282306.453 8669914.377)  \n",
       "10  POINT (282279.506 8669810.186)  \n",
       "15  POINT (282470.515 8669747.199)  "
      ]
     },
     "execution_count": 27,
     "metadata": {},
     "output_type": "execute_result"
    }
   ],
   "source": [
    "# Retorna las fila en la posición 0, 10 y 15\n",
    "puertas.iloc[[0, 10, 15]]"
   ]
  },
  {
   "cell_type": "markdown",
   "id": "a690e128-3349-42f1-aa9f-59ae9e30f576",
   "metadata": {},
   "source": [
    "#### **Selección mediante `slicing`**\n",
    "\n",
    "También podemos utilizar un **rango de indices** para seleccionar filas mediante `slicing`:\n",
    "\n",
    "```python\n",
    "df.iloc[i:k]\n",
    "```\n",
    "\n",
    "Esto devuelve un **subconjunto de datos** incluyendo las filas desde la posición `i` hasta `k-1`."
   ]
  },
  {
   "cell_type": "code",
   "execution_count": 28,
   "id": "40fe9468-f527-4603-b192-d31803818460",
   "metadata": {},
   "outputs": [
    {
     "data": {
      "text/html": [
       "<div>\n",
       "<style scoped>\n",
       "    .dataframe tbody tr th:only-of-type {\n",
       "        vertical-align: middle;\n",
       "    }\n",
       "\n",
       "    .dataframe tbody tr th {\n",
       "        vertical-align: top;\n",
       "    }\n",
       "\n",
       "    .dataframe thead th {\n",
       "        text-align: right;\n",
       "    }\n",
       "</style>\n",
       "<table border=\"1\" class=\"dataframe\">\n",
       "  <thead>\n",
       "    <tr style=\"text-align: right;\">\n",
       "      <th></th>\n",
       "      <th>OBJECTID</th>\n",
       "      <th>CODIGOPREDIO</th>\n",
       "      <th>NUMEROLOTE</th>\n",
       "      <th>NUMEROPUERTA</th>\n",
       "      <th>CODIGODISTRITO</th>\n",
       "      <th>CODIGOSEGMENTOVIA</th>\n",
       "      <th>CODIGOMANZANA</th>\n",
       "      <th>CODIGOPUERTA</th>\n",
       "      <th>geometry</th>\n",
       "    </tr>\n",
       "  </thead>\n",
       "  <tbody>\n",
       "    <tr>\n",
       "      <th>5</th>\n",
       "      <td>66</td>\n",
       "      <td>L17</td>\n",
       "      <td>None</td>\n",
       "      <td>528</td>\n",
       "      <td>150132</td>\n",
       "      <td>159355</td>\n",
       "      <td>31811.0</td>\n",
       "      <td>3692</td>\n",
       "      <td>POINT (282541.472 8670064.495)</td>\n",
       "    </tr>\n",
       "    <tr>\n",
       "      <th>6</th>\n",
       "      <td>67</td>\n",
       "      <td>L11</td>\n",
       "      <td>None</td>\n",
       "      <td>529</td>\n",
       "      <td>150132</td>\n",
       "      <td>150068</td>\n",
       "      <td>31811.0</td>\n",
       "      <td>3693</td>\n",
       "      <td>POINT (282575.181 8670074.712)</td>\n",
       "    </tr>\n",
       "    <tr>\n",
       "      <th>7</th>\n",
       "      <td>68</td>\n",
       "      <td>L10</td>\n",
       "      <td>None</td>\n",
       "      <td>535</td>\n",
       "      <td>150132</td>\n",
       "      <td>150068</td>\n",
       "      <td>31811.0</td>\n",
       "      <td>3694</td>\n",
       "      <td>POINT (282572.823 8670082.021)</td>\n",
       "    </tr>\n",
       "    <tr>\n",
       "      <th>8</th>\n",
       "      <td>69</td>\n",
       "      <td>L01</td>\n",
       "      <td>None</td>\n",
       "      <td>273</td>\n",
       "      <td>150132</td>\n",
       "      <td>157623</td>\n",
       "      <td>31854.0</td>\n",
       "      <td>3695</td>\n",
       "      <td>POINT (282423.179 8669852.588)</td>\n",
       "    </tr>\n",
       "  </tbody>\n",
       "</table>\n",
       "</div>"
      ],
      "text/plain": [
       "   OBJECTID CODIGOPREDIO NUMEROLOTE NUMEROPUERTA CODIGODISTRITO  \\\n",
       "5        66          L17       None          528         150132   \n",
       "6        67          L11       None          529         150132   \n",
       "7        68          L10       None          535         150132   \n",
       "8        69          L01       None          273         150132   \n",
       "\n",
       "  CODIGOSEGMENTOVIA  CODIGOMANZANA  CODIGOPUERTA  \\\n",
       "5            159355        31811.0          3692   \n",
       "6            150068        31811.0          3693   \n",
       "7            150068        31811.0          3694   \n",
       "8            157623        31854.0          3695   \n",
       "\n",
       "                         geometry  \n",
       "5  POINT (282541.472 8670064.495)  \n",
       "6  POINT (282575.181 8670074.712)  \n",
       "7  POINT (282572.823 8670082.021)  \n",
       "8  POINT (282423.179 8669852.588)  "
      ]
     },
     "execution_count": 28,
     "metadata": {},
     "output_type": "execute_result"
    }
   ],
   "source": [
    "# Retorna las filas desde la posicion 5 al 8\n",
    "puertas.iloc[5:9]"
   ]
  },
  {
   "cell_type": "markdown",
   "id": "cdd839f3-71b5-4e90-a226-ce042f4252fa",
   "metadata": {},
   "source": [
    "### **3.2. Selección de columnas**\n",
    "\n",
    "Las columnas se seleccionan mediante su **posición numérica**, es decir, su índice entero. Asimismo, es **necesario especificar las filas**. Para seleccionar **todas las filas**, utilizamos el operador `:`.\n",
    "\n",
    "#### **Selección de una columna específica**\n",
    "\n",
    "Para seleccionar una única columna por su posición, usamos:\n",
    "\n",
    "```python\n",
    "df.iloc[:, i]\n",
    "```\n",
    "\n",
    "Esto devuelve la columna ubicada en la posición `i`."
   ]
  },
  {
   "cell_type": "code",
   "execution_count": 29,
   "id": "901b58b8-747e-497b-be1d-35718eada234",
   "metadata": {},
   "outputs": [
    {
     "data": {
      "text/plain": [
       "0           842\n",
       "1          811A\n",
       "2           930\n",
       "3           943\n",
       "4           971\n",
       "           ... \n",
       "2323691     NaN\n",
       "2323692     NaN\n",
       "2323693     NaN\n",
       "2323694     NaN\n",
       "2323695     NaN\n",
       "Name: NUMEROPUERTA, Length: 2323696, dtype: object"
      ]
     },
     "execution_count": 29,
     "metadata": {},
     "output_type": "execute_result"
    }
   ],
   "source": [
    "# Retorna la columna en la posición 3 (NUMEROPUERTA)\n",
    "puertas.iloc[:, 3]"
   ]
  },
  {
   "cell_type": "markdown",
   "id": "ae74b677-ebb5-4383-a75d-f9a157c79b91",
   "metadata": {},
   "source": [
    "#### **Selección de múltiples columnas**\n",
    "\n",
    "Para seleccionar múltiples columnas por su posición, pasamos una **lista con sus índices** de la siguiente manera:\n",
    "\n",
    "```python\n",
    "df.iloc[:, [i, j]]\n",
    "```\n",
    "\n",
    "Esto devuelve un **subconjunto de datos** con las columnas ubicadas en las posiciones `i` y `j`."
   ]
  },
  {
   "cell_type": "code",
   "execution_count": 30,
   "id": "924ffebb-508f-4557-bd70-1c00efacd80d",
   "metadata": {},
   "outputs": [
    {
     "data": {
      "text/html": [
       "<div>\n",
       "<style scoped>\n",
       "    .dataframe tbody tr th:only-of-type {\n",
       "        vertical-align: middle;\n",
       "    }\n",
       "\n",
       "    .dataframe tbody tr th {\n",
       "        vertical-align: top;\n",
       "    }\n",
       "\n",
       "    .dataframe thead th {\n",
       "        text-align: right;\n",
       "    }\n",
       "</style>\n",
       "<table border=\"1\" class=\"dataframe\">\n",
       "  <thead>\n",
       "    <tr style=\"text-align: right;\">\n",
       "      <th></th>\n",
       "      <th>OBJECTID</th>\n",
       "      <th>NUMEROPUERTA</th>\n",
       "      <th>geometry</th>\n",
       "    </tr>\n",
       "  </thead>\n",
       "  <tbody>\n",
       "    <tr>\n",
       "      <th>0</th>\n",
       "      <td>61</td>\n",
       "      <td>842</td>\n",
       "      <td>POINT (282306.453 8669914.377)</td>\n",
       "    </tr>\n",
       "    <tr>\n",
       "      <th>1</th>\n",
       "      <td>62</td>\n",
       "      <td>811A</td>\n",
       "      <td>POINT (282245.352 8669863.459)</td>\n",
       "    </tr>\n",
       "    <tr>\n",
       "      <th>2</th>\n",
       "      <td>63</td>\n",
       "      <td>930</td>\n",
       "      <td>POINT (282501.278 8670013.832)</td>\n",
       "    </tr>\n",
       "    <tr>\n",
       "      <th>3</th>\n",
       "      <td>64</td>\n",
       "      <td>943</td>\n",
       "      <td>POINT (282505.574 8669977.579)</td>\n",
       "    </tr>\n",
       "    <tr>\n",
       "      <th>4</th>\n",
       "      <td>65</td>\n",
       "      <td>971</td>\n",
       "      <td>POINT (282560.12 8669989.886)</td>\n",
       "    </tr>\n",
       "    <tr>\n",
       "      <th>...</th>\n",
       "      <td>...</td>\n",
       "      <td>...</td>\n",
       "      <td>...</td>\n",
       "    </tr>\n",
       "    <tr>\n",
       "      <th>2323691</th>\n",
       "      <td>3717000</td>\n",
       "      <td>NaN</td>\n",
       "      <td>POINT (278698.773 8676598.118)</td>\n",
       "    </tr>\n",
       "    <tr>\n",
       "      <th>2323692</th>\n",
       "      <td>3717001</td>\n",
       "      <td>NaN</td>\n",
       "      <td>POINT (278682.456 8676625.591)</td>\n",
       "    </tr>\n",
       "    <tr>\n",
       "      <th>2323693</th>\n",
       "      <td>3717002</td>\n",
       "      <td>NaN</td>\n",
       "      <td>POINT (278677.124 8676632.768)</td>\n",
       "    </tr>\n",
       "    <tr>\n",
       "      <th>2323694</th>\n",
       "      <td>3717003</td>\n",
       "      <td>NaN</td>\n",
       "      <td>POINT (278670.622 8676643.207)</td>\n",
       "    </tr>\n",
       "    <tr>\n",
       "      <th>2323695</th>\n",
       "      <td>3717004</td>\n",
       "      <td>NaN</td>\n",
       "      <td>POINT (278666.108 8676648.642)</td>\n",
       "    </tr>\n",
       "  </tbody>\n",
       "</table>\n",
       "<p>2323696 rows × 3 columns</p>\n",
       "</div>"
      ],
      "text/plain": [
       "         OBJECTID NUMEROPUERTA                        geometry\n",
       "0              61          842  POINT (282306.453 8669914.377)\n",
       "1              62         811A  POINT (282245.352 8669863.459)\n",
       "2              63          930  POINT (282501.278 8670013.832)\n",
       "3              64          943  POINT (282505.574 8669977.579)\n",
       "4              65          971   POINT (282560.12 8669989.886)\n",
       "...           ...          ...                             ...\n",
       "2323691   3717000          NaN  POINT (278698.773 8676598.118)\n",
       "2323692   3717001          NaN  POINT (278682.456 8676625.591)\n",
       "2323693   3717002          NaN  POINT (278677.124 8676632.768)\n",
       "2323694   3717003          NaN  POINT (278670.622 8676643.207)\n",
       "2323695   3717004          NaN  POINT (278666.108 8676648.642)\n",
       "\n",
       "[2323696 rows x 3 columns]"
      ]
     },
     "execution_count": 30,
     "metadata": {},
     "output_type": "execute_result"
    }
   ],
   "source": [
    "# Retorna la columna en las posiciones 0, 3, -1  \n",
    "# (CODIGOPREDIO, NUMEROPUERTA, geometry)\n",
    "puertas.iloc[:, [0, 3, -1]]"
   ]
  },
  {
   "cell_type": "markdown",
   "id": "583584a2-6542-48a3-b690-e2af69a054aa",
   "metadata": {},
   "source": [
    "#### **Selección mediante `slicing`**\n",
    "\n",
    "También podemos emplear un **rango de indices** para seleccionar columnas mediante `slicing`:\n",
    "\n",
    "```python\n",
    "df.iloc[:, i:k]\n",
    "```\n",
    "\n",
    "Esto devuelve un **subconjunto de datos** que incluye todas las columnas desde la fila `i` hasta `k-1`."
   ]
  },
  {
   "cell_type": "code",
   "execution_count": 32,
   "id": "be997fb2-5cf5-4028-b993-74da95817ead",
   "metadata": {},
   "outputs": [
    {
     "data": {
      "text/html": [
       "<div>\n",
       "<style scoped>\n",
       "    .dataframe tbody tr th:only-of-type {\n",
       "        vertical-align: middle;\n",
       "    }\n",
       "\n",
       "    .dataframe tbody tr th {\n",
       "        vertical-align: top;\n",
       "    }\n",
       "\n",
       "    .dataframe thead th {\n",
       "        text-align: right;\n",
       "    }\n",
       "</style>\n",
       "<table border=\"1\" class=\"dataframe\">\n",
       "  <thead>\n",
       "    <tr style=\"text-align: right;\">\n",
       "      <th></th>\n",
       "      <th>CODIGOPREDIO</th>\n",
       "      <th>NUMEROLOTE</th>\n",
       "      <th>NUMEROPUERTA</th>\n",
       "    </tr>\n",
       "  </thead>\n",
       "  <tbody>\n",
       "    <tr>\n",
       "      <th>0</th>\n",
       "      <td>L38</td>\n",
       "      <td>None</td>\n",
       "      <td>842</td>\n",
       "    </tr>\n",
       "    <tr>\n",
       "      <th>1</th>\n",
       "      <td>L24</td>\n",
       "      <td>None</td>\n",
       "      <td>811A</td>\n",
       "    </tr>\n",
       "    <tr>\n",
       "      <th>2</th>\n",
       "      <td>L21</td>\n",
       "      <td>None</td>\n",
       "      <td>930</td>\n",
       "    </tr>\n",
       "    <tr>\n",
       "      <th>3</th>\n",
       "      <td>L13</td>\n",
       "      <td>None</td>\n",
       "      <td>943</td>\n",
       "    </tr>\n",
       "    <tr>\n",
       "      <th>4</th>\n",
       "      <td>L06</td>\n",
       "      <td>None</td>\n",
       "      <td>971</td>\n",
       "    </tr>\n",
       "    <tr>\n",
       "      <th>...</th>\n",
       "      <td>...</td>\n",
       "      <td>...</td>\n",
       "      <td>...</td>\n",
       "    </tr>\n",
       "    <tr>\n",
       "      <th>2323691</th>\n",
       "      <td>L010</td>\n",
       "      <td>1</td>\n",
       "      <td>NaN</td>\n",
       "    </tr>\n",
       "    <tr>\n",
       "      <th>2323692</th>\n",
       "      <td>L021</td>\n",
       "      <td>4</td>\n",
       "      <td>NaN</td>\n",
       "    </tr>\n",
       "    <tr>\n",
       "      <th>2323693</th>\n",
       "      <td>L040</td>\n",
       "      <td>5</td>\n",
       "      <td>NaN</td>\n",
       "    </tr>\n",
       "    <tr>\n",
       "      <th>2323694</th>\n",
       "      <td>L030</td>\n",
       "      <td>6</td>\n",
       "      <td>NaN</td>\n",
       "    </tr>\n",
       "    <tr>\n",
       "      <th>2323695</th>\n",
       "      <td>L020</td>\n",
       "      <td>7</td>\n",
       "      <td>NaN</td>\n",
       "    </tr>\n",
       "  </tbody>\n",
       "</table>\n",
       "<p>2323696 rows × 3 columns</p>\n",
       "</div>"
      ],
      "text/plain": [
       "        CODIGOPREDIO NUMEROLOTE NUMEROPUERTA\n",
       "0                L38       None          842\n",
       "1                L24       None         811A\n",
       "2                L21       None          930\n",
       "3                L13       None          943\n",
       "4                L06       None          971\n",
       "...              ...        ...          ...\n",
       "2323691         L010          1          NaN\n",
       "2323692         L021          4          NaN\n",
       "2323693         L040          5          NaN\n",
       "2323694         L030          6          NaN\n",
       "2323695         L020          7          NaN\n",
       "\n",
       "[2323696 rows x 3 columns]"
      ]
     },
     "execution_count": 32,
     "metadata": {},
     "output_type": "execute_result"
    }
   ],
   "source": [
    "# Retorna la columna en la posicion 1, 2 y 3\n",
    "puertas.iloc[:, 1:4]"
   ]
  },
  {
   "cell_type": "markdown",
   "id": "72d48fba-94a0-44c5-a0a9-15a811099954",
   "metadata": {},
   "source": [
    "### **3.3. Selección de filas y columnas**"
   ]
  },
  {
   "cell_type": "code",
   "execution_count": null,
   "id": "804fbd6e-5489-432e-837f-b2ce9a2425ae",
   "metadata": {},
   "outputs": [],
   "source": []
  },
  {
   "cell_type": "markdown",
   "id": "5124ae02-edae-44cc-a437-1ed6169b8fe4",
   "metadata": {},
   "source": [
    "### **3.4. Selección con máscaras boleanas**"
   ]
  },
  {
   "cell_type": "code",
   "execution_count": null,
   "id": "61baa002-58d0-46c3-993c-0e8b19139da1",
   "metadata": {},
   "outputs": [],
   "source": []
  },
  {
   "cell_type": "markdown",
   "id": "45f8f5f1-9bcc-4cff-ac2a-922fbb2f800f",
   "metadata": {},
   "source": [
    "### **3.5. Asignación de nuevos valores**"
   ]
  },
  {
   "cell_type": "code",
   "execution_count": null,
   "id": "e610479d-a33c-48be-8b91-e3b900a98877",
   "metadata": {},
   "outputs": [],
   "source": []
  },
  {
   "cell_type": "markdown",
   "id": "c7d7ef52-f602-4740-9346-5c6b8bee391e",
   "metadata": {},
   "source": [
    "## **4. Selección por cuadro delimitador `.cx`**"
   ]
  },
  {
   "cell_type": "code",
   "execution_count": null,
   "id": "2308a510-9cf7-4ece-bc5d-86f3d62fe9f1",
   "metadata": {},
   "outputs": [],
   "source": []
  }
 ],
 "metadata": {
  "kernelspec": {
   "display_name": "Python 3 (ipykernel)",
   "language": "python",
   "name": "python3"
  },
  "language_info": {
   "codemirror_mode": {
    "name": "ipython",
    "version": 3
   },
   "file_extension": ".py",
   "mimetype": "text/x-python",
   "name": "python",
   "nbconvert_exporter": "python",
   "pygments_lexer": "ipython3",
   "version": "3.9.7"
  }
 },
 "nbformat": 4,
 "nbformat_minor": 5
}
