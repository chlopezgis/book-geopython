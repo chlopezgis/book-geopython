{
 "cells": [
  {
   "cell_type": "markdown",
   "id": "84c650e8-f53d-45c9-a66c-5abc7628a04e",
   "metadata": {},
   "source": [
    "## **2. Selección por etiqueta: `.loc`**\n",
    "\n",
    "La selección por etiqueta se realiza mediante el método _Pandas_ **[.loc](https://pandas.pydata.org/docs/reference/api/pandas.DataFrame.loc.html)**, que permite **acceder a filas y columnas** a través de sus **nombres de índice**.\n",
    "\n",
    "\n",
    "| **N°** | **Tipo** | **Uso** | **Sintaxis** | **Retorno** |\n",
    "|--|----|-----------|---------|--------|\n",
    "| **1** | **Selección de una fila/columna** | Especificar la **etiqueta** de una fila o columna. | * `df.loc[row1]`<br>* `df.loc[:, col1]` | Valores de la fila `row1` o la columna `col1`. |\n",
    "| **2** | **Selección de múltiples filas/columnas** | Especificar una **lista de etiquetas** de filas o columnas. | * `df.loc[[row1, row2]]`<br>* `df.loc[:, [col1, col2]]` | Subconjunto de datos con las filas o columnas seleccionadas. |\n",
    "| **3** | **Selección de filas/columnas mediante `slicing`** | Indicar un **rango de etiquetas** de filas o columnas en el formato `\"Desde:Hasta\"`. | * `df.loc[rowA:rowN]`<br>* `df.loc[:, colA:colN]` | Subconjunto de datos dentro del rango de filas o columnas especificadas, incluyéndolas. |\n",
    "| **4** | **Selección de una fila y una columna** | Especificar **ambas etiquetas** para acceder a un valor específico. | * `df.loc[row1, col1]` | Valor en la intersección de la fila `row1` y la columna `col1`. |\n",
    "| **5** | **Selección de múltiples filas y columnas** | Proporcionar una **lista de etiquetas** en ambos ejes. | * `df.loc[[row1, row2], [col1, col2]]` | Subconjunto de datos con las filas y columnas indicadas. |\n",
    "| **6** | **Selección de múltiples filas y columnas mediante `slicing`** | Indicar un **rango de etiquetas** en ambos ejes. | * `df.loc[rowA:rowN, colA:colN]` | Subconjunto de datos dentro del rango de filas y columnas especificadas, incluyéndolas. |\n",
    "| **7** | **Selección con máscaras booleanas** | Utilizar **expresiones lógicas** que generan una `Serie booleana`, donde **`True`** indica las filas a conservar y **`False`** las que se descartan.<br><br>Para combinar expresiones, usar `&` (**AND**), `\\|` (**OR**) y `~` (**NOT**). Se recomienda utilizar paréntesis para definir la prioridad de evaluación. | * `df.loc[<expresión>]` | Subconjunto de datos que cumple con la condición establecida. |\n",
    "| **8** | **Actualización de un valor** | Modificar el contenido de una celda especificando su fila y columna. | * `df.loc[row1, col1] = <nuevo_valor>` | El valor en la intersección de la fila y columna indicadas se actualiza. |\n",
    "| **9** | **Actualización de valores con máscaras booleanas** | Modificar el contenido de una columna solo en las filas que cumplan una condición.<br><br>Es importante especificar correctamente las columnas, ya que los cambios se aplican a todas las indicadas. Si no se define una columna, la modificación afectará a todas.| * `df.loc[<expresión>, <col>] = <nuevo_valor>` | Actualiza los valores de la columna donde la condición se evalúe como `True`. |"
   ]
  },
  {
   "cell_type": "markdown",
   "id": "b14c345a-5b1e-4171-97c7-9db3a54716af",
   "metadata": {},
   "source": [
    "## **3. Selección por posición `.iloc`**\n",
    "\n",
    "La selección por posición se realiza mediante el método _Pandas_ **[.iloc](https://pandas.pydata.org/docs/reference/api/pandas.DataFrame.iloc.html)**, que permite **acceder a filas y columnas** mediante **índices enteros basados en su posición**."
   ]
  }
 ],
 "metadata": {
  "kernelspec": {
   "display_name": "Python 3 (ipykernel)",
   "language": "python",
   "name": "python3"
  },
  "language_info": {
   "codemirror_mode": {
    "name": "ipython",
    "version": 3
   },
   "file_extension": ".py",
   "mimetype": "text/x-python",
   "name": "python",
   "nbconvert_exporter": "python",
   "pygments_lexer": "ipython3",
   "version": "3.9.7"
  }
 },
 "nbformat": 4,
 "nbformat_minor": 5
}
